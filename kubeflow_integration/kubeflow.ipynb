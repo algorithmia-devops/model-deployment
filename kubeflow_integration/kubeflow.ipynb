{
 "cells": [
  {
   "cell_type": "markdown",
   "metadata": {},
   "source": [
    "# STEP 1: Installing Required Software\n",
    "\n",
    "We need to make the following software available on your computer:\n",
    "* gcloud: access to Google’s cloud services\n",
    "* kubectl: controlling a Kubernetes cluster\n",
    "* kustomize: a helper tool that makes it easier to modify kubernetes jobs\n",
    "* kfctl: controlling Kubeflow specifically\n",
    "\n",
    "This tutorial is largely based on [Google's end-to-end Kubeflow tutorial](https://www.kubeflow.org/docs/gke/gcp-e2e/)  (which is archived [here](https://web.archive.org/save/https://www.kubeflow.org/docs/gke/gcp-e2e/))."
   ]
  },
  {
   "cell_type": "markdown",
   "metadata": {},
   "source": [
    "## Gcloud, Kubectl and kusomize\n",
    "Unfortunately you cannot install gcloud through Jupyter.  If you are on a Mac you will have to run the following from the command shell to instal gcloud:\n",
    "```\n",
    "curl https://sdk.cloud.google.com | bash  # install gcloud\n",
    "exec -l $SHELL  # restart the shell\n",
    "gcloud init\n",
    "```\n",
    "If you are not on a Mac check out instructions for other systems [here](https://cloud.google.com/sdk/docs/downloads-interactive).\n",
    "\n",
    "Once you have  gcloud installed you can install kubectl and kustomize like this (again, on a Mac):\n",
    "```\n",
    "gcloud components install kubectl\n",
    "brew install kustomize\n",
    "```"
   ]
  },
  {
   "cell_type": "markdown",
   "metadata": {},
   "source": [
    "## kfctl\n",
    "We don’t “install” kfctl exactly - we just download the executable and put it in a place we can reference.  Download the appropriate version from the [Kubeflow releases page](https://github.com/kubeflow/kubeflow/releases/) into the directory of your choice, unzip it, and then put it on your path.  Example commands (in this case just putting it in the working directory) are:"
   ]
  },
  {
   "cell_type": "code",
   "execution_count": 1,
   "metadata": {},
   "outputs": [],
   "source": [
    "%%capture\n",
    "!wget https://github.com/kubeflow/kubeflow/releases/download/v0.5.1/kfctl_v0.5.1_darwin.tar.gz\n",
    "!tar -xvf kfctl_v0.5.1_darwin.tar.gz"
   ]
  },
  {
   "cell_type": "markdown",
   "metadata": {},
   "source": [
    "# STEP 2: Creating the Project\n",
    "Google Cloud divides things into \"projects\" that can have multiple resources assocaited with them.  If you already have a project you can just use it.  In this section we will create a new project and configure gcloud to point to it."
   ]
  },
  {
   "cell_type": "markdown",
   "metadata": {},
   "source": [
    "First use gcloud to tell Google who you are and associate all of this with your google email address.  This command will open up a browser window where you can log in:"
   ]
  },
  {
   "cell_type": "code",
   "execution_count": 18,
   "metadata": {},
   "outputs": [],
   "source": [
    "%%capture\n",
    "!gcloud auth application-default login"
   ]
  },
  {
   "cell_type": "markdown",
   "metadata": {},
   "source": [
    "Then go to the [Google Cloud console page](https://console.cloud.google.com), create a project, and get its ID.  Also **make sure billing is enabled for it**, and choose a geographical region and zone for the project.  Set those decisions as python variables:"
   ]
  },
  {
   "cell_type": "code",
   "execution_count": 2,
   "metadata": {},
   "outputs": [],
   "source": [
    "PROJECT='kubeflow-245520'\n",
    "REGION='us-west2'\n",
    "ZONE='us-west2-c'"
   ]
  },
  {
   "cell_type": "markdown",
   "metadata": {},
   "source": [
    "Then configure gcloud to point to that project and zone:"
   ]
  },
  {
   "cell_type": "code",
   "execution_count": 3,
   "metadata": {},
   "outputs": [
    {
     "name": "stdout",
     "output_type": "stream",
     "text": [
      "Updated property [core/project].\n",
      "Updated property [compute/zone].\n"
     ]
    }
   ],
   "source": [
    "!gcloud config set project $PROJECT\n",
    "!gcloud config set compute/zone $ZONE"
   ]
  },
  {
   "cell_type": "markdown",
   "metadata": {},
   "source": [
    "# STEP 3: Create GKE Cluster\n",
    "Now we will create a Google Kubernetes Engine (GKE) cluster, under the umbrella of the current project, that has kubeflow running on it.\n",
    "\n",
    "Choose a name for the Kubernetes cluster to use, a name for the GCloud deployment, and login credentials for the web UI of the cluster:"
   ]
  },
  {
   "cell_type": "code",
   "execution_count": 4,
   "metadata": {},
   "outputs": [],
   "source": [
    "KFAPP='kfapp3'\n",
    "KUBEFLOW_USERNAME='fcady'\n",
    "KUBEFLOW_PASSWORD='mypass'"
   ]
  },
  {
   "cell_type": "markdown",
   "metadata": {},
   "source": [
    "Use kfctl to create the cluster (and a directory of the same name on your local box) and set up its configurations (this will fail if you don’t have billing enabled).  This process will take a while (maybe 20 minutes?) as the resources for the cluster get provisioned."
   ]
  },
  {
   "cell_type": "code",
   "execution_count": 18,
   "metadata": {},
   "outputs": [
    {
     "name": "stdout",
     "output_type": "stream",
     "text": [
      "env: KUBEFLOW_USERNAME=fcady\n",
      "env: KUBEFLOW_PASSWORD=mypass\n",
      "\u001b[36mINFO\u001b[0m[0000] deploying kubeflow application                \u001b[36mfilename\u001b[0m=\"cmd/apply.go:35\"\n",
      "\u001b[36mINFO\u001b[0m[0000] reading from /Users/fieldcady/Desktop/model-deployment/kubeflow_integration/kfapp3/app.yaml  \u001b[36mfilename\u001b[0m=\"coordinator/coordinator.go:341\"\n",
      "\u001b[36mINFO\u001b[0m[0000] Reading config file: /Users/fieldcady/Desktop/model-deployment/kubeflow_integration/kfapp3/gcp_config/storage-kubeflow.yaml  \u001b[36mfilename\u001b[0m=\"gcp/gcp.go:181\"\n",
      "\u001b[36mINFO\u001b[0m[0000] Reading import file: /Users/fieldcady/Desktop/model-deployment/kubeflow_integration/kfapp3/gcp_config/storage.jinja  \u001b[36mfilename\u001b[0m=\"gcp/gcp.go:217\"\n",
      "\u001b[36mINFO\u001b[0m[0001] Updating deployment kfapp3-storage            \u001b[36mfilename\u001b[0m=\"gcp/gcp.go:332\"\n",
      "\u001b[33mWARN\u001b[0m[0002] Updating kfapp3-storage status: RUNNING (op = operation-1565222924363-58f8fdc66a624-1ef0c318-aa4c9f7b)  \u001b[33mfilename\u001b[0m=\"gcp/gcp.go:293\"\n",
      "\u001b[33mWARN\u001b[0m[0003] Updating kfapp3-storage status: RUNNING (op = operation-1565222924363-58f8fdc66a624-1ef0c318-aa4c9f7b)  \u001b[33mfilename\u001b[0m=\"gcp/gcp.go:293\"\n",
      "\u001b[33mWARN\u001b[0m[0003] Updating kfapp3-storage status: RUNNING (op = operation-1565222924363-58f8fdc66a624-1ef0c318-aa4c9f7b)  \u001b[33mfilename\u001b[0m=\"gcp/gcp.go:293\"\n",
      "\u001b[33mWARN\u001b[0m[0005] Updating kfapp3-storage status: RUNNING (op = operation-1565222924363-58f8fdc66a624-1ef0c318-aa4c9f7b)  \u001b[33mfilename\u001b[0m=\"gcp/gcp.go:293\"\n",
      "\u001b[33mWARN\u001b[0m[0007] Updating kfapp3-storage status: RUNNING (op = operation-1565222924363-58f8fdc66a624-1ef0c318-aa4c9f7b)  \u001b[33mfilename\u001b[0m=\"gcp/gcp.go:293\"\n",
      "\u001b[33mWARN\u001b[0m[0011] Updating kfapp3-storage status: RUNNING (op = operation-1565222924363-58f8fdc66a624-1ef0c318-aa4c9f7b)  \u001b[33mfilename\u001b[0m=\"gcp/gcp.go:293\"\n",
      "\u001b[36mINFO\u001b[0m[0016] Updating kfapp3-storage is finished: DONE     \u001b[36mfilename\u001b[0m=\"gcp/gcp.go:290\"\n",
      "\u001b[36mINFO\u001b[0m[0016] Reading config file: /Users/fieldcady/Desktop/model-deployment/kubeflow_integration/kfapp3/gcp_config/cluster-kubeflow.yaml  \u001b[36mfilename\u001b[0m=\"gcp/gcp.go:181\"\n",
      "\u001b[36mINFO\u001b[0m[0016] Reading import file: /Users/fieldcady/Desktop/model-deployment/kubeflow_integration/kfapp3/gcp_config/cluster.jinja  \u001b[36mfilename\u001b[0m=\"gcp/gcp.go:217\"\n",
      "\u001b[36mINFO\u001b[0m[0016] Updating deployment kfapp3                    \u001b[36mfilename\u001b[0m=\"gcp/gcp.go:332\"\n",
      "\u001b[33mWARN\u001b[0m[0017] Updating kfapp3 status: RUNNING (op = operation-1565222939798-58f8fdd522a4b-10955a3d-8876c3aa)  \u001b[33mfilename\u001b[0m=\"gcp/gcp.go:293\"\n",
      "\u001b[33mWARN\u001b[0m[0018] Updating kfapp3 status: RUNNING (op = operation-1565222939798-58f8fdd522a4b-10955a3d-8876c3aa)  \u001b[33mfilename\u001b[0m=\"gcp/gcp.go:293\"\n",
      "\u001b[33mWARN\u001b[0m[0019] Updating kfapp3 status: RUNNING (op = operation-1565222939798-58f8fdd522a4b-10955a3d-8876c3aa)  \u001b[33mfilename\u001b[0m=\"gcp/gcp.go:293\"\n",
      "\u001b[33mWARN\u001b[0m[0020] Updating kfapp3 status: RUNNING (op = operation-1565222939798-58f8fdd522a4b-10955a3d-8876c3aa)  \u001b[33mfilename\u001b[0m=\"gcp/gcp.go:293\"\n",
      "\u001b[33mWARN\u001b[0m[0023] Updating kfapp3 status: RUNNING (op = operation-1565222939798-58f8fdd522a4b-10955a3d-8876c3aa)  \u001b[33mfilename\u001b[0m=\"gcp/gcp.go:293\"\n",
      "\u001b[33mWARN\u001b[0m[0026] Updating kfapp3 status: RUNNING (op = operation-1565222939798-58f8fdd522a4b-10955a3d-8876c3aa)  \u001b[33mfilename\u001b[0m=\"gcp/gcp.go:293\"\n",
      "\u001b[33mWARN\u001b[0m[0029] Updating kfapp3 status: RUNNING (op = operation-1565222939798-58f8fdd522a4b-10955a3d-8876c3aa)  \u001b[33mfilename\u001b[0m=\"gcp/gcp.go:293\"\n",
      "\u001b[33mWARN\u001b[0m[0038] Updating kfapp3 status: RUNNING (op = operation-1565222939798-58f8fdd522a4b-10955a3d-8876c3aa)  \u001b[33mfilename\u001b[0m=\"gcp/gcp.go:293\"\n",
      "\u001b[33mWARN\u001b[0m[0043] Updating kfapp3 status: RUNNING (op = operation-1565222939798-58f8fdd522a4b-10955a3d-8876c3aa)  \u001b[33mfilename\u001b[0m=\"gcp/gcp.go:293\"\n",
      "\u001b[33mWARN\u001b[0m[0051] Updating kfapp3 status: RUNNING (op = operation-1565222939798-58f8fdd522a4b-10955a3d-8876c3aa)  \u001b[33mfilename\u001b[0m=\"gcp/gcp.go:293\"\n",
      "\u001b[33mWARN\u001b[0m[0063] Updating kfapp3 status: RUNNING (op = operation-1565222939798-58f8fdd522a4b-10955a3d-8876c3aa)  \u001b[33mfilename\u001b[0m=\"gcp/gcp.go:293\"\n",
      "\u001b[33mWARN\u001b[0m[0091] Updating kfapp3 status: RUNNING (op = operation-1565222939798-58f8fdd522a4b-10955a3d-8876c3aa)  \u001b[33mfilename\u001b[0m=\"gcp/gcp.go:293\"\n",
      "\u001b[33mWARN\u001b[0m[0124] Updating kfapp3 status: RUNNING (op = operation-1565222939798-58f8fdd522a4b-10955a3d-8876c3aa)  \u001b[33mfilename\u001b[0m=\"gcp/gcp.go:293\"\n",
      "\u001b[33mWARN\u001b[0m[0163] Updating kfapp3 status: RUNNING (op = operation-1565222939798-58f8fdd522a4b-10955a3d-8876c3aa)  \u001b[33mfilename\u001b[0m=\"gcp/gcp.go:293\"\n",
      "\u001b[36mINFO\u001b[0m[0238] Updating kfapp3 is finished: DONE             \u001b[36mfilename\u001b[0m=\"gcp/gcp.go:290\"\n",
      "\u001b[36mINFO\u001b[0m[0241] Creating namespace: kubeflow                  \u001b[36mfilename\u001b[0m=\"gcp/gcp.go:361\"\n",
      "\u001b[36mINFO\u001b[0m[0241] Get namespace error: namespaces \"kubeflow\" not found  \u001b[36mfilename\u001b[0m=\"gcp/gcp.go:367\"\n",
      "\u001b[36mINFO\u001b[0m[0241] Binding admin role for fcady@algorithmia.io ...  \u001b[36mfilename\u001b[0m=\"gcp/gcp.go:386\"\n",
      "\u001b[36mINFO\u001b[0m[0242] default-admin not found, creating...          \u001b[36mfilename\u001b[0m=\"gcp/gcp.go:420\"\n",
      "\u001b[36mINFO\u001b[0m[0242] Secret for admin-gcp-sa not found, creating ...  \u001b[36mfilename\u001b[0m=\"gcp/gcp.go:1320\"\n",
      "\u001b[36mINFO\u001b[0m[0243] Secret for user-gcp-sa not found, creating ...  \u001b[36mfilename\u001b[0m=\"gcp/gcp.go:1320\"\n",
      "\u001b[33mWARN\u001b[0m[0244] Updating basic auth login is failed, trying to create one: secrets \"kubeflow-login\" not found  \u001b[33mfilename\u001b[0m=\"gcp/gcp.go:1387\"\n",
      "\u001b[36mINFO\u001b[0m[0244] Running get-credentials kfapp3 --zone=us-west2-c --project=kubeflow-245520 ...  \u001b[36mfilename\u001b[0m=\"gcp/gcp.go:785\"\n",
      "\u001b[36mINFO\u001b[0m[0246] KUBECONFIG name is gke_kubeflow-245520_us-west2-c_kfapp3  \u001b[36mfilename\u001b[0m=\"gcp/gcp.go:454\"\n",
      "\u001b[36mINFO\u001b[0m[0246] KUBECONFIG context kfapp3 is created and currently using  \u001b[36mfilename\u001b[0m=\"gcp/gcp.go:551\"\n",
      "\u001b[36mINFO\u001b[0m[0246] reading from /Users/fieldcady/Desktop/model-deployment/kubeflow_integration/kfapp3/app.yaml  \u001b[36mfilename\u001b[0m=\"coordinator/coordinator.go:341\"\n",
      "\u001b[36mINFO\u001b[0m[0246] namespace: kubeflow                           \u001b[36mfilename\u001b[0m=\"ksonnet/ksonnet.go:109\"\n",
      "\u001b[36mINFO\u001b[0m[0253] Applying services kubeflow.ambassador         \u001b[36mfilename\u001b[0m=\"cluster/upsert.go:73\"\n",
      "\u001b[36mINFO\u001b[0m[0254] Creating non-existent services kubeflow.ambassador  \u001b[36mfilename\u001b[0m=\"cluster/upsert.go:92\"\n",
      "\u001b[36mINFO\u001b[0m[0255] Applying services kubeflow.ambassador-admin   \u001b[36mfilename\u001b[0m=\"cluster/upsert.go:73\"\n",
      "\u001b[36mINFO\u001b[0m[0255] Creating non-existent services kubeflow.ambassador-admin  \u001b[36mfilename\u001b[0m=\"cluster/upsert.go:92\"\n",
      "\u001b[36mINFO\u001b[0m[0255] Applying clusterroles ambassador              \u001b[36mfilename\u001b[0m=\"cluster/upsert.go:73\"\n",
      "\u001b[36mINFO\u001b[0m[0256] Creating non-existent clusterroles ambassador  \u001b[36mfilename\u001b[0m=\"cluster/upsert.go:92\"\n",
      "\u001b[36mINFO\u001b[0m[0257] Applying serviceaccounts kubeflow.ambassador  \u001b[36mfilename\u001b[0m=\"cluster/upsert.go:73\"\n",
      "\u001b[36mINFO\u001b[0m[0257] Creating non-existent serviceaccounts kubeflow.ambassador  \u001b[36mfilename\u001b[0m=\"cluster/upsert.go:92\"\n",
      "\u001b[36mINFO\u001b[0m[0258] Applying clusterrolebindings ambassador       \u001b[36mfilename\u001b[0m=\"cluster/upsert.go:73\"\n",
      "\u001b[36mINFO\u001b[0m[0258] Creating non-existent clusterrolebindings ambassador  \u001b[36mfilename\u001b[0m=\"cluster/upsert.go:92\"\n",
      "\u001b[36mINFO\u001b[0m[0259] Applying deployments kubeflow.ambassador      \u001b[36mfilename\u001b[0m=\"cluster/upsert.go:73\"\n",
      "\u001b[36mINFO\u001b[0m[0259] Creating non-existent deployments kubeflow.ambassador  \u001b[36mfilename\u001b[0m=\"cluster/upsert.go:92\"\n",
      "\u001b[36mINFO\u001b[0m[0259] Component ambassador apply succeeded          \u001b[36mfilename\u001b[0m=\"ksonnet/ksonnet.go:171\"\n",
      "\u001b[36mINFO\u001b[0m[0264] Applying customresourcedefinitions workflows.argoproj.io  \u001b[36mfilename\u001b[0m=\"cluster/upsert.go:73\"\n",
      "\u001b[36mINFO\u001b[0m[0265] Creating non-existent customresourcedefinitions workflows.argoproj.io  \u001b[36mfilename\u001b[0m=\"cluster/upsert.go:92\"\n",
      "\u001b[36mINFO\u001b[0m[0265] Applying clusterrolebindings argo             \u001b[36mfilename\u001b[0m=\"cluster/upsert.go:73\"\n",
      "\u001b[36mINFO\u001b[0m[0266] Creating non-existent clusterrolebindings argo  \u001b[36mfilename\u001b[0m=\"cluster/upsert.go:92\"\n",
      "\u001b[36mINFO\u001b[0m[0267] Applying serviceaccounts kubeflow.argo-ui     \u001b[36mfilename\u001b[0m=\"cluster/upsert.go:73\"\n",
      "\u001b[36mINFO\u001b[0m[0267] Creating non-existent serviceaccounts kubeflow.argo-ui  \u001b[36mfilename\u001b[0m=\"cluster/upsert.go:92\"\n",
      "\u001b[36mINFO\u001b[0m[0268] Applying services kubeflow.argo-ui            \u001b[36mfilename\u001b[0m=\"cluster/upsert.go:73\"\n",
      "\u001b[36mINFO\u001b[0m[0268] Creating non-existent services kubeflow.argo-ui  \u001b[36mfilename\u001b[0m=\"cluster/upsert.go:92\"\n"
     ]
    },
    {
     "name": "stdout",
     "output_type": "stream",
     "text": [
      "\u001b[36mINFO\u001b[0m[0269] Applying configmaps kubeflow.workflow-controller-configmap  \u001b[36mfilename\u001b[0m=\"cluster/upsert.go:73\"\n",
      "\u001b[36mINFO\u001b[0m[0269] Creating non-existent configmaps kubeflow.workflow-controller-configmap  \u001b[36mfilename\u001b[0m=\"cluster/upsert.go:92\"\n",
      "\u001b[36mINFO\u001b[0m[0270] Applying serviceaccounts kubeflow.argo        \u001b[36mfilename\u001b[0m=\"cluster/upsert.go:73\"\n",
      "\u001b[36mINFO\u001b[0m[0270] Creating non-existent serviceaccounts kubeflow.argo  \u001b[36mfilename\u001b[0m=\"cluster/upsert.go:92\"\n",
      "\u001b[36mINFO\u001b[0m[0271] Applying clusterroles argo                    \u001b[36mfilename\u001b[0m=\"cluster/upsert.go:73\"\n",
      "\u001b[36mINFO\u001b[0m[0271] Creating non-existent clusterroles argo       \u001b[36mfilename\u001b[0m=\"cluster/upsert.go:92\"\n",
      "\u001b[36mINFO\u001b[0m[0272] Applying clusterroles argo-ui                 \u001b[36mfilename\u001b[0m=\"cluster/upsert.go:73\"\n",
      "\u001b[36mINFO\u001b[0m[0272] Creating non-existent clusterroles argo-ui    \u001b[36mfilename\u001b[0m=\"cluster/upsert.go:92\"\n",
      "\u001b[36mINFO\u001b[0m[0273] Applying clusterrolebindings argo-ui          \u001b[36mfilename\u001b[0m=\"cluster/upsert.go:73\"\n",
      "\u001b[36mINFO\u001b[0m[0273] Creating non-existent clusterrolebindings argo-ui  \u001b[36mfilename\u001b[0m=\"cluster/upsert.go:92\"\n",
      "\u001b[36mINFO\u001b[0m[0274] Applying deployments kubeflow.workflow-controller  \u001b[36mfilename\u001b[0m=\"cluster/upsert.go:73\"\n",
      "\u001b[36mINFO\u001b[0m[0274] Creating non-existent deployments kubeflow.workflow-controller  \u001b[36mfilename\u001b[0m=\"cluster/upsert.go:92\"\n",
      "\u001b[36mINFO\u001b[0m[0275] Applying deployments kubeflow.argo-ui         \u001b[36mfilename\u001b[0m=\"cluster/upsert.go:73\"\n",
      "\u001b[36mINFO\u001b[0m[0275] Creating non-existent deployments kubeflow.argo-ui  \u001b[36mfilename\u001b[0m=\"cluster/upsert.go:92\"\n",
      "\u001b[36mINFO\u001b[0m[0275] Component argo apply succeeded                \u001b[36mfilename\u001b[0m=\"ksonnet/ksonnet.go:171\"\n",
      "\u001b[36mINFO\u001b[0m[0281] Applying services kubeflow.basic-auth         \u001b[36mfilename\u001b[0m=\"cluster/upsert.go:73\"\n",
      "\u001b[36mINFO\u001b[0m[0282] Creating non-existent services kubeflow.basic-auth  \u001b[36mfilename\u001b[0m=\"cluster/upsert.go:92\"\n",
      "\u001b[36mINFO\u001b[0m[0283] Applying services kubeflow.basic-auth-login   \u001b[36mfilename\u001b[0m=\"cluster/upsert.go:73\"\n",
      "\u001b[36mINFO\u001b[0m[0283] Creating non-existent services kubeflow.basic-auth-login  \u001b[36mfilename\u001b[0m=\"cluster/upsert.go:92\"\n",
      "\u001b[36mINFO\u001b[0m[0284] Applying deployments kubeflow.basic-auth      \u001b[36mfilename\u001b[0m=\"cluster/upsert.go:73\"\n",
      "\u001b[36mINFO\u001b[0m[0284] Creating non-existent deployments kubeflow.basic-auth  \u001b[36mfilename\u001b[0m=\"cluster/upsert.go:92\"\n",
      "\u001b[36mINFO\u001b[0m[0284] Applying deployments kubeflow.basic-auth-login  \u001b[36mfilename\u001b[0m=\"cluster/upsert.go:73\"\n",
      "\u001b[36mINFO\u001b[0m[0284] Creating non-existent deployments kubeflow.basic-auth-login  \u001b[36mfilename\u001b[0m=\"cluster/upsert.go:92\"\n",
      "\u001b[36mINFO\u001b[0m[0284] Component basic-auth apply succeeded          \u001b[36mfilename\u001b[0m=\"ksonnet/ksonnet.go:171\"\n",
      "\u001b[36mINFO\u001b[0m[0290] Applying serviceaccounts kubeflow.envoy       \u001b[36mfilename\u001b[0m=\"cluster/upsert.go:73\"\n",
      "\u001b[36mINFO\u001b[0m[0291] Creating non-existent serviceaccounts kubeflow.envoy  \u001b[36mfilename\u001b[0m=\"cluster/upsert.go:92\"\n",
      "\u001b[36mINFO\u001b[0m[0291] Applying clusterrolebindings envoy            \u001b[36mfilename\u001b[0m=\"cluster/upsert.go:73\"\n",
      "\u001b[36mINFO\u001b[0m[0291] Creating non-existent clusterrolebindings envoy  \u001b[36mfilename\u001b[0m=\"cluster/upsert.go:92\"\n",
      "\u001b[36mINFO\u001b[0m[0292] Applying clusterroles kubeflow.envoy          \u001b[36mfilename\u001b[0m=\"cluster/upsert.go:73\"\n",
      "\u001b[36mINFO\u001b[0m[0292] Creating non-existent clusterroles kubeflow.envoy  \u001b[36mfilename\u001b[0m=\"cluster/upsert.go:92\"\n",
      "\u001b[36mINFO\u001b[0m[0292] Applying services kubeflow.whoami-app         \u001b[36mfilename\u001b[0m=\"cluster/upsert.go:73\"\n",
      "\u001b[36mINFO\u001b[0m[0292] Creating non-existent services kubeflow.whoami-app  \u001b[36mfilename\u001b[0m=\"cluster/upsert.go:92\"\n",
      "\u001b[31mERRO\u001b[0m[0295] (Will retry) Component basic-auth-ingress apply failed; Error: handle object: patching object from cluster: merging object with existing state: unable to recognize \"/var/folders/h1/38y7h04s4rj6647157c_3rfh0000gn/T/ksonnet-mergepatch846015449\": no matches for kind \"Certificate\" in version \"certmanager.k8s.io/v1alpha1\"  \u001b[31mfilename\u001b[0m=\"ksonnet/ksonnet.go:174\"\n",
      "\u001b[36mINFO\u001b[0m[0300] Applying clusterrolebindings centraldashboard  \u001b[36mfilename\u001b[0m=\"cluster/upsert.go:73\"\n",
      "\u001b[36mINFO\u001b[0m[0300] Creating non-existent clusterrolebindings centraldashboard  \u001b[36mfilename\u001b[0m=\"cluster/upsert.go:92\"\n",
      "\u001b[36mINFO\u001b[0m[0300] Applying services kubeflow.centraldashboard   \u001b[36mfilename\u001b[0m=\"cluster/upsert.go:73\"\n",
      "\u001b[36mINFO\u001b[0m[0301] Creating non-existent services kubeflow.centraldashboard  \u001b[36mfilename\u001b[0m=\"cluster/upsert.go:92\"\n",
      "\u001b[36mINFO\u001b[0m[0301] Applying serviceaccounts kubeflow.centraldashboard  \u001b[36mfilename\u001b[0m=\"cluster/upsert.go:73\"\n",
      "\u001b[36mINFO\u001b[0m[0301] Creating non-existent serviceaccounts kubeflow.centraldashboard  \u001b[36mfilename\u001b[0m=\"cluster/upsert.go:92\"\n",
      "\u001b[36mINFO\u001b[0m[0302] Applying roles kubeflow.centraldashboard      \u001b[36mfilename\u001b[0m=\"cluster/upsert.go:73\"\n",
      "\u001b[36mINFO\u001b[0m[0302] Creating non-existent roles kubeflow.centraldashboard  \u001b[36mfilename\u001b[0m=\"cluster/upsert.go:92\"\n",
      "\u001b[36mINFO\u001b[0m[0303] Applying rolebindings kubeflow.centraldashboard  \u001b[36mfilename\u001b[0m=\"cluster/upsert.go:73\"\n",
      "\u001b[36mINFO\u001b[0m[0303] Creating non-existent rolebindings kubeflow.centraldashboard  \u001b[36mfilename\u001b[0m=\"cluster/upsert.go:92\"\n",
      "\u001b[36mINFO\u001b[0m[0303] Applying clusterroles centraldashboard        \u001b[36mfilename\u001b[0m=\"cluster/upsert.go:73\"\n",
      "\u001b[36mINFO\u001b[0m[0303] Creating non-existent clusterroles centraldashboard  \u001b[36mfilename\u001b[0m=\"cluster/upsert.go:92\"\n",
      "\u001b[36mINFO\u001b[0m[0304] Applying deployments kubeflow.centraldashboard  \u001b[36mfilename\u001b[0m=\"cluster/upsert.go:73\"\n",
      "\u001b[36mINFO\u001b[0m[0304] Creating non-existent deployments kubeflow.centraldashboard  \u001b[36mfilename\u001b[0m=\"cluster/upsert.go:92\"\n",
      "\u001b[36mINFO\u001b[0m[0304] Component centraldashboard apply succeeded    \u001b[36mfilename\u001b[0m=\"ksonnet/ksonnet.go:171\"\n",
      "\u001b[36mINFO\u001b[0m[0309] Applying customresourcedefinitions certificates.certmanager.k8s.io  \u001b[36mfilename\u001b[0m=\"cluster/upsert.go:73\"\n",
      "\u001b[36mINFO\u001b[0m[0309] Creating non-existent customresourcedefinitions certificates.certmanager.k8s.io  \u001b[36mfilename\u001b[0m=\"cluster/upsert.go:92\"\n",
      "\u001b[36mINFO\u001b[0m[0310] Applying customresourcedefinitions clusterissuers.certmanager.k8s.io  \u001b[36mfilename\u001b[0m=\"cluster/upsert.go:73\"\n",
      "\u001b[36mINFO\u001b[0m[0310] Creating non-existent customresourcedefinitions clusterissuers.certmanager.k8s.io  \u001b[36mfilename\u001b[0m=\"cluster/upsert.go:92\"\n",
      "\u001b[36mINFO\u001b[0m[0310] Applying customresourcedefinitions issuers.certmanager.k8s.io  \u001b[36mfilename\u001b[0m=\"cluster/upsert.go:73\"\n",
      "\u001b[36mINFO\u001b[0m[0310] Creating non-existent customresourcedefinitions issuers.certmanager.k8s.io  \u001b[36mfilename\u001b[0m=\"cluster/upsert.go:92\"\n",
      "\u001b[36mINFO\u001b[0m[0311] Applying serviceaccounts kubeflow.cert-manager  \u001b[36mfilename\u001b[0m=\"cluster/upsert.go:73\"\n",
      "\u001b[36mINFO\u001b[0m[0311] Creating non-existent serviceaccounts kubeflow.cert-manager  \u001b[36mfilename\u001b[0m=\"cluster/upsert.go:92\"\n",
      "\u001b[36mINFO\u001b[0m[0312] Applying clusterroles cert-manager            \u001b[36mfilename\u001b[0m=\"cluster/upsert.go:73\"\n",
      "\u001b[36mINFO\u001b[0m[0312] Creating non-existent clusterroles cert-manager  \u001b[36mfilename\u001b[0m=\"cluster/upsert.go:92\"\n",
      "\u001b[36mINFO\u001b[0m[0312] Applying clusterrolebindings cert-manager     \u001b[36mfilename\u001b[0m=\"cluster/upsert.go:73\"\n",
      "\u001b[36mINFO\u001b[0m[0312] Creating non-existent clusterrolebindings cert-manager  \u001b[36mfilename\u001b[0m=\"cluster/upsert.go:92\"\n",
      "\u001b[36mINFO\u001b[0m[0313] Applying deployments kubeflow.cert-manager    \u001b[36mfilename\u001b[0m=\"cluster/upsert.go:73\"\n",
      "\u001b[36mINFO\u001b[0m[0313] Creating non-existent deployments kubeflow.cert-manager  \u001b[36mfilename\u001b[0m=\"cluster/upsert.go:92\"\n",
      "\u001b[36mINFO\u001b[0m[0316] Applying clusterissuers letsencrypt-prod      \u001b[36mfilename\u001b[0m=\"cluster/upsert.go:73\"\n",
      "\u001b[36mINFO\u001b[0m[0317] Creating non-existent clusterissuers letsencrypt-prod  \u001b[36mfilename\u001b[0m=\"cluster/upsert.go:92\"\n",
      "\u001b[36mINFO\u001b[0m[0317] Component cert-manager apply succeeded        \u001b[36mfilename\u001b[0m=\"ksonnet/ksonnet.go:171\"\n",
      "\u001b[36mINFO\u001b[0m[0322] Applying customresourcedefinitions cloudendpoints.ctl.isla.solutions  \u001b[36mfilename\u001b[0m=\"cluster/upsert.go:73\"\n",
      "\u001b[36mINFO\u001b[0m[0322] Creating non-existent customresourcedefinitions cloudendpoints.ctl.isla.solutions  \u001b[36mfilename\u001b[0m=\"cluster/upsert.go:92\"\n",
      "\u001b[36mINFO\u001b[0m[0323] Applying clusterroles cloud-endpoints-controller  \u001b[36mfilename\u001b[0m=\"cluster/upsert.go:73\"\n",
      "\u001b[36mINFO\u001b[0m[0323] Creating non-existent clusterroles cloud-endpoints-controller  \u001b[36mfilename\u001b[0m=\"cluster/upsert.go:92\"\n"
     ]
    },
    {
     "name": "stdout",
     "output_type": "stream",
     "text": [
      "\u001b[36mINFO\u001b[0m[0323] Applying clusterrolebindings cloud-endpoints-controller  \u001b[36mfilename\u001b[0m=\"cluster/upsert.go:73\"\n",
      "\u001b[36mINFO\u001b[0m[0324] Creating non-existent clusterrolebindings cloud-endpoints-controller  \u001b[36mfilename\u001b[0m=\"cluster/upsert.go:92\"\n",
      "\u001b[36mINFO\u001b[0m[0324] Applying services kubeflow.cloud-endpoints-controller  \u001b[36mfilename\u001b[0m=\"cluster/upsert.go:73\"\n",
      "\u001b[36mINFO\u001b[0m[0324] Creating non-existent services kubeflow.cloud-endpoints-controller  \u001b[36mfilename\u001b[0m=\"cluster/upsert.go:92\"\n",
      "\u001b[36mINFO\u001b[0m[0325] Applying serviceaccounts kubeflow.cloud-endpoints-controller  \u001b[36mfilename\u001b[0m=\"cluster/upsert.go:73\"\n",
      "\u001b[36mINFO\u001b[0m[0325] Creating non-existent serviceaccounts kubeflow.cloud-endpoints-controller  \u001b[36mfilename\u001b[0m=\"cluster/upsert.go:92\"\n",
      "\u001b[36mINFO\u001b[0m[0325] Applying deployments kubeflow.cloud-endpoints-controller  \u001b[36mfilename\u001b[0m=\"cluster/upsert.go:73\"\n",
      "\u001b[36mINFO\u001b[0m[0326] Creating non-existent deployments kubeflow.cloud-endpoints-controller  \u001b[36mfilename\u001b[0m=\"cluster/upsert.go:92\"\n",
      "\u001b[31mERRO\u001b[0m[0328] (Will retry) Component cloud-endpoints apply failed; Error: handle object: patching object from cluster: merging object with existing state: unable to recognize \"/var/folders/h1/38y7h04s4rj6647157c_3rfh0000gn/T/ksonnet-mergepatch629938792\": no matches for kind \"CompositeController\" in version \"metacontroller.k8s.io/v1alpha1\"  \u001b[31mfilename\u001b[0m=\"ksonnet/ksonnet.go:174\"\n",
      "\u001b[36mINFO\u001b[0m[0333] Applying clusterroles webhook-bootstrap       \u001b[36mfilename\u001b[0m=\"cluster/upsert.go:73\"\n",
      "\u001b[36mINFO\u001b[0m[0334] Creating non-existent clusterroles webhook-bootstrap  \u001b[36mfilename\u001b[0m=\"cluster/upsert.go:92\"\n",
      "\u001b[36mINFO\u001b[0m[0334] Applying services kubeflow.gcp-cred-webhook   \u001b[36mfilename\u001b[0m=\"cluster/upsert.go:73\"\n",
      "\u001b[36mINFO\u001b[0m[0334] Creating non-existent services kubeflow.gcp-cred-webhook  \u001b[36mfilename\u001b[0m=\"cluster/upsert.go:92\"\n",
      "\u001b[36mINFO\u001b[0m[0335] Applying configmaps kubeflow.webhook-bootstrap-config  \u001b[36mfilename\u001b[0m=\"cluster/upsert.go:73\"\n",
      "\u001b[36mINFO\u001b[0m[0335] Creating non-existent configmaps kubeflow.webhook-bootstrap-config  \u001b[36mfilename\u001b[0m=\"cluster/upsert.go:92\"\n",
      "\u001b[36mINFO\u001b[0m[0336] Applying mutatingwebhookconfigurations gcp-cred-webhook  \u001b[36mfilename\u001b[0m=\"cluster/upsert.go:73\"\n",
      "\u001b[36mINFO\u001b[0m[0336] Creating non-existent mutatingwebhookconfigurations gcp-cred-webhook  \u001b[36mfilename\u001b[0m=\"cluster/upsert.go:92\"\n",
      "\u001b[36mINFO\u001b[0m[0336] Applying serviceaccounts kubeflow.webhook-bootstrap  \u001b[36mfilename\u001b[0m=\"cluster/upsert.go:73\"\n",
      "\u001b[36mINFO\u001b[0m[0336] Creating non-existent serviceaccounts kubeflow.webhook-bootstrap  \u001b[36mfilename\u001b[0m=\"cluster/upsert.go:92\"\n",
      "\u001b[36mINFO\u001b[0m[0337] Applying clusterrolebindings webhook-bootstrap  \u001b[36mfilename\u001b[0m=\"cluster/upsert.go:73\"\n",
      "\u001b[36mINFO\u001b[0m[0337] Creating non-existent clusterrolebindings webhook-bootstrap  \u001b[36mfilename\u001b[0m=\"cluster/upsert.go:92\"\n",
      "\u001b[36mINFO\u001b[0m[0337] Applying statefulsets kubeflow.webhook-bootstrap  \u001b[36mfilename\u001b[0m=\"cluster/upsert.go:73\"\n",
      "\u001b[36mINFO\u001b[0m[0338] Creating non-existent statefulsets kubeflow.webhook-bootstrap  \u001b[36mfilename\u001b[0m=\"cluster/upsert.go:92\"\n",
      "\u001b[36mINFO\u001b[0m[0338] Applying deployments kubeflow.gcp-cred-webhook  \u001b[36mfilename\u001b[0m=\"cluster/upsert.go:73\"\n",
      "\u001b[36mINFO\u001b[0m[0339] Creating non-existent deployments kubeflow.gcp-cred-webhook  \u001b[36mfilename\u001b[0m=\"cluster/upsert.go:92\"\n",
      "\u001b[36mINFO\u001b[0m[0339] Component gcp-credentials-admission-webhook apply succeeded  \u001b[36mfilename\u001b[0m=\"ksonnet/ksonnet.go:171\"\n",
      "\u001b[36mINFO\u001b[0m[0344] Applying daemonsets kube-system.nvidia-driver-installer  \u001b[36mfilename\u001b[0m=\"cluster/upsert.go:73\"\n",
      "\u001b[36mINFO\u001b[0m[0344] Creating non-existent daemonsets kube-system.nvidia-driver-installer  \u001b[36mfilename\u001b[0m=\"cluster/upsert.go:92\"\n",
      "\u001b[36mINFO\u001b[0m[0344] Component gpu-driver apply succeeded          \u001b[36mfilename\u001b[0m=\"ksonnet/ksonnet.go:171\"\n",
      "\u001b[36mINFO\u001b[0m[0349] Applying services kubeflow.jupyter-web-app    \u001b[36mfilename\u001b[0m=\"cluster/upsert.go:73\"\n",
      "\u001b[36mINFO\u001b[0m[0350] Creating non-existent services kubeflow.jupyter-web-app  \u001b[36mfilename\u001b[0m=\"cluster/upsert.go:92\"\n",
      "\u001b[36mINFO\u001b[0m[0350] Applying deployments kubeflow.jupyter-web-app  \u001b[36mfilename\u001b[0m=\"cluster/upsert.go:73\"\n",
      "\u001b[36mINFO\u001b[0m[0350] Creating non-existent deployments kubeflow.jupyter-web-app  \u001b[36mfilename\u001b[0m=\"cluster/upsert.go:92\"\n",
      "\u001b[36mINFO\u001b[0m[0351] Applying configmaps kubeflow.jupyter-web-app-config  \u001b[36mfilename\u001b[0m=\"cluster/upsert.go:73\"\n",
      "\u001b[36mINFO\u001b[0m[0351] Creating non-existent configmaps kubeflow.jupyter-web-app-config  \u001b[36mfilename\u001b[0m=\"cluster/upsert.go:92\"\n",
      "\u001b[36mINFO\u001b[0m[0352] Applying serviceaccounts kubeflow.jupyter-web-app  \u001b[36mfilename\u001b[0m=\"cluster/upsert.go:73\"\n",
      "\u001b[36mINFO\u001b[0m[0352] Creating non-existent serviceaccounts kubeflow.jupyter-web-app  \u001b[36mfilename\u001b[0m=\"cluster/upsert.go:92\"\n",
      "\u001b[36mINFO\u001b[0m[0352] Applying clusterrolebindings jupyter-web-app-binding  \u001b[36mfilename\u001b[0m=\"cluster/upsert.go:73\"\n",
      "\u001b[36mINFO\u001b[0m[0353] Creating non-existent clusterrolebindings jupyter-web-app-binding  \u001b[36mfilename\u001b[0m=\"cluster/upsert.go:92\"\n",
      "\u001b[36mINFO\u001b[0m[0353] Applying clusterroles jupyter-web-app-cluster-role  \u001b[36mfilename\u001b[0m=\"cluster/upsert.go:73\"\n",
      "\u001b[36mINFO\u001b[0m[0353] Creating non-existent clusterroles jupyter-web-app-cluster-role  \u001b[36mfilename\u001b[0m=\"cluster/upsert.go:92\"\n",
      "\u001b[36mINFO\u001b[0m[0354] Applying serviceaccounts kubeflow.jupyter-notebook  \u001b[36mfilename\u001b[0m=\"cluster/upsert.go:73\"\n",
      "\u001b[36mINFO\u001b[0m[0354] Creating non-existent serviceaccounts kubeflow.jupyter-notebook  \u001b[36mfilename\u001b[0m=\"cluster/upsert.go:92\"\n",
      "\u001b[36mINFO\u001b[0m[0354] Applying roles kubeflow.jupyter-notebook-role  \u001b[36mfilename\u001b[0m=\"cluster/upsert.go:73\"\n",
      "\u001b[36mINFO\u001b[0m[0355] Creating non-existent roles kubeflow.jupyter-notebook-role  \u001b[36mfilename\u001b[0m=\"cluster/upsert.go:92\"\n",
      "\u001b[36mINFO\u001b[0m[0355] Applying rolebindings kubeflow.jupyter-notebook-role-binding  \u001b[36mfilename\u001b[0m=\"cluster/upsert.go:73\"\n",
      "\u001b[36mINFO\u001b[0m[0355] Creating non-existent rolebindings kubeflow.jupyter-notebook-role-binding  \u001b[36mfilename\u001b[0m=\"cluster/upsert.go:92\"\n",
      "\u001b[36mINFO\u001b[0m[0355] Component jupyter-web-app apply succeeded     \u001b[36mfilename\u001b[0m=\"ksonnet/ksonnet.go:171\"\n",
      "\u001b[36mINFO\u001b[0m[0360] Applying clusterroles metrics-collector       \u001b[36mfilename\u001b[0m=\"cluster/upsert.go:73\"\n",
      "\u001b[36mINFO\u001b[0m[0361] Creating non-existent clusterroles metrics-collector  \u001b[36mfilename\u001b[0m=\"cluster/upsert.go:92\"\n",
      "\u001b[36mINFO\u001b[0m[0361] Applying services kubeflow.studyjob-controller  \u001b[36mfilename\u001b[0m=\"cluster/upsert.go:73\"\n",
      "\u001b[36mINFO\u001b[0m[0362] Creating non-existent services kubeflow.studyjob-controller  \u001b[36mfilename\u001b[0m=\"cluster/upsert.go:92\"\n",
      "\u001b[36mINFO\u001b[0m[0362] Applying services kubeflow.vizier-db          \u001b[36mfilename\u001b[0m=\"cluster/upsert.go:73\"\n",
      "\u001b[36mINFO\u001b[0m[0363] Creating non-existent services kubeflow.vizier-db  \u001b[36mfilename\u001b[0m=\"cluster/upsert.go:92\"\n",
      "\u001b[36mINFO\u001b[0m[0364] Applying persistentvolumeclaims kubeflow.katib-mysql  \u001b[36mfilename\u001b[0m=\"cluster/upsert.go:73\"\n",
      "\u001b[36mINFO\u001b[0m[0364] Creating non-existent persistentvolumeclaims kubeflow.katib-mysql  \u001b[36mfilename\u001b[0m=\"cluster/upsert.go:92\"\n",
      "\u001b[36mINFO\u001b[0m[0364] Applying clusterrolebindings studyjob-controller  \u001b[36mfilename\u001b[0m=\"cluster/upsert.go:73\"\n",
      "\u001b[36mINFO\u001b[0m[0364] Creating non-existent clusterrolebindings studyjob-controller  \u001b[36mfilename\u001b[0m=\"cluster/upsert.go:92\"\n",
      "\u001b[36mINFO\u001b[0m[0365] Applying secrets kubeflow.vizier-db-secrets   \u001b[36mfilename\u001b[0m=\"cluster/upsert.go:73\"\n",
      "\u001b[36mINFO\u001b[0m[0365] Creating non-existent secrets kubeflow.vizier-db-secrets  \u001b[36mfilename\u001b[0m=\"cluster/upsert.go:92\"\n",
      "\u001b[36mINFO\u001b[0m[0365] Applying clusterroles vizier-core             \u001b[36mfilename\u001b[0m=\"cluster/upsert.go:73\"\n",
      "\u001b[36mINFO\u001b[0m[0365] Creating non-existent clusterroles vizier-core  \u001b[36mfilename\u001b[0m=\"cluster/upsert.go:92\"\n",
      "\u001b[36mINFO\u001b[0m[0366] Applying clusterrolebindings vizier-core      \u001b[36mfilename\u001b[0m=\"cluster/upsert.go:73\"\n",
      "\u001b[36mINFO\u001b[0m[0366] Creating non-existent clusterrolebindings vizier-core  \u001b[36mfilename\u001b[0m=\"cluster/upsert.go:92\"\n",
      "\u001b[36mINFO\u001b[0m[0366] Applying serviceaccounts kubeflow.vizier-core  \u001b[36mfilename\u001b[0m=\"cluster/upsert.go:73\"\n",
      "\u001b[36mINFO\u001b[0m[0367] Creating non-existent serviceaccounts kubeflow.vizier-core  \u001b[36mfilename\u001b[0m=\"cluster/upsert.go:92\"\n",
      "\u001b[36mINFO\u001b[0m[0367] Applying services kubeflow.vizier-core-rest   \u001b[36mfilename\u001b[0m=\"cluster/upsert.go:73\"\n",
      "\u001b[36mINFO\u001b[0m[0367] Creating non-existent services kubeflow.vizier-core-rest  \u001b[36mfilename\u001b[0m=\"cluster/upsert.go:92\"\n"
     ]
    },
    {
     "name": "stdout",
     "output_type": "stream",
     "text": [
      "\u001b[36mINFO\u001b[0m[0368] Applying serviceaccounts kubeflow.studyjob-controller  \u001b[36mfilename\u001b[0m=\"cluster/upsert.go:73\"\n",
      "\u001b[36mINFO\u001b[0m[0368] Creating non-existent serviceaccounts kubeflow.studyjob-controller  \u001b[36mfilename\u001b[0m=\"cluster/upsert.go:92\"\n",
      "\u001b[36mINFO\u001b[0m[0368] Applying services kubeflow.katib-ui           \u001b[36mfilename\u001b[0m=\"cluster/upsert.go:73\"\n",
      "\u001b[36mINFO\u001b[0m[0368] Creating non-existent services kubeflow.katib-ui  \u001b[36mfilename\u001b[0m=\"cluster/upsert.go:92\"\n",
      "\u001b[36mINFO\u001b[0m[0369] Applying clusterroles studyjob-controller     \u001b[36mfilename\u001b[0m=\"cluster/upsert.go:73\"\n",
      "\u001b[36mINFO\u001b[0m[0369] Creating non-existent clusterroles studyjob-controller  \u001b[36mfilename\u001b[0m=\"cluster/upsert.go:92\"\n",
      "\u001b[36mINFO\u001b[0m[0369] Applying clusterroles katib-ui                \u001b[36mfilename\u001b[0m=\"cluster/upsert.go:73\"\n",
      "\u001b[36mINFO\u001b[0m[0369] Creating non-existent clusterroles katib-ui   \u001b[36mfilename\u001b[0m=\"cluster/upsert.go:92\"\n",
      "\u001b[36mINFO\u001b[0m[0370] Applying clusterrolebindings katib-ui         \u001b[36mfilename\u001b[0m=\"cluster/upsert.go:73\"\n",
      "\u001b[36mINFO\u001b[0m[0370] Creating non-existent clusterrolebindings katib-ui  \u001b[36mfilename\u001b[0m=\"cluster/upsert.go:92\"\n",
      "\u001b[36mINFO\u001b[0m[0371] Applying serviceaccounts kubeflow.katib-ui    \u001b[36mfilename\u001b[0m=\"cluster/upsert.go:73\"\n",
      "\u001b[36mINFO\u001b[0m[0371] Creating non-existent serviceaccounts kubeflow.katib-ui  \u001b[36mfilename\u001b[0m=\"cluster/upsert.go:92\"\n",
      "\u001b[36mINFO\u001b[0m[0372] Applying services kubeflow.vizier-suggestion-random  \u001b[36mfilename\u001b[0m=\"cluster/upsert.go:73\"\n",
      "\u001b[36mINFO\u001b[0m[0372] Creating non-existent services kubeflow.vizier-suggestion-random  \u001b[36mfilename\u001b[0m=\"cluster/upsert.go:92\"\n",
      "\u001b[36mINFO\u001b[0m[0373] Applying services kubeflow.vizier-core        \u001b[36mfilename\u001b[0m=\"cluster/upsert.go:73\"\n",
      "\u001b[36mINFO\u001b[0m[0373] Creating non-existent services kubeflow.vizier-core  \u001b[36mfilename\u001b[0m=\"cluster/upsert.go:92\"\n",
      "\u001b[36mINFO\u001b[0m[0374] Applying services kubeflow.vizier-suggestion-grid  \u001b[36mfilename\u001b[0m=\"cluster/upsert.go:73\"\n",
      "\u001b[36mINFO\u001b[0m[0374] Creating non-existent services kubeflow.vizier-suggestion-grid  \u001b[36mfilename\u001b[0m=\"cluster/upsert.go:92\"\n",
      "\u001b[36mINFO\u001b[0m[0375] Applying configmaps kubeflow.metricscollector-template  \u001b[36mfilename\u001b[0m=\"cluster/upsert.go:73\"\n",
      "\u001b[36mINFO\u001b[0m[0375] Creating non-existent configmaps kubeflow.metricscollector-template  \u001b[36mfilename\u001b[0m=\"cluster/upsert.go:92\"\n",
      "\u001b[36mINFO\u001b[0m[0375] Applying services kubeflow.vizier-suggestion-hyperband  \u001b[36mfilename\u001b[0m=\"cluster/upsert.go:73\"\n",
      "\u001b[36mINFO\u001b[0m[0375] Creating non-existent services kubeflow.vizier-suggestion-hyperband  \u001b[36mfilename\u001b[0m=\"cluster/upsert.go:92\"\n",
      "\u001b[36mINFO\u001b[0m[0376] Applying clusterrolebindings metrics-collector  \u001b[36mfilename\u001b[0m=\"cluster/upsert.go:73\"\n",
      "\u001b[36mINFO\u001b[0m[0376] Creating non-existent clusterrolebindings metrics-collector  \u001b[36mfilename\u001b[0m=\"cluster/upsert.go:92\"\n",
      "\u001b[36mINFO\u001b[0m[0376] Applying services kubeflow.vizier-suggestion-bayesianoptimization  \u001b[36mfilename\u001b[0m=\"cluster/upsert.go:73\"\n",
      "\u001b[36mINFO\u001b[0m[0376] Creating non-existent services kubeflow.vizier-suggestion-bayesianoptimization  \u001b[36mfilename\u001b[0m=\"cluster/upsert.go:92\"\n",
      "\u001b[36mINFO\u001b[0m[0377] Applying serviceaccounts kubeflow.metrics-collector  \u001b[36mfilename\u001b[0m=\"cluster/upsert.go:73\"\n",
      "\u001b[36mINFO\u001b[0m[0377] Creating non-existent serviceaccounts kubeflow.metrics-collector  \u001b[36mfilename\u001b[0m=\"cluster/upsert.go:92\"\n",
      "\u001b[36mINFO\u001b[0m[0377] Applying customresourcedefinitions studyjobs.kubeflow.org  \u001b[36mfilename\u001b[0m=\"cluster/upsert.go:73\"\n",
      "\u001b[36mINFO\u001b[0m[0378] Creating non-existent customresourcedefinitions studyjobs.kubeflow.org  \u001b[36mfilename\u001b[0m=\"cluster/upsert.go:92\"\n",
      "\u001b[36mINFO\u001b[0m[0378] Applying configmaps kubeflow.worker-template  \u001b[36mfilename\u001b[0m=\"cluster/upsert.go:73\"\n",
      "\u001b[36mINFO\u001b[0m[0379] Creating non-existent configmaps kubeflow.worker-template  \u001b[36mfilename\u001b[0m=\"cluster/upsert.go:92\"\n",
      "\u001b[36mINFO\u001b[0m[0379] Applying deployments kubeflow.vizier-suggestion-bayesianoptimization  \u001b[36mfilename\u001b[0m=\"cluster/upsert.go:73\"\n",
      "\u001b[36mINFO\u001b[0m[0380] Creating non-existent deployments kubeflow.vizier-suggestion-bayesianoptimization  \u001b[36mfilename\u001b[0m=\"cluster/upsert.go:92\"\n",
      "\u001b[36mINFO\u001b[0m[0380] Applying deployments kubeflow.vizier-suggestion-hyperband  \u001b[36mfilename\u001b[0m=\"cluster/upsert.go:73\"\n",
      "\u001b[36mINFO\u001b[0m[0381] Creating non-existent deployments kubeflow.vizier-suggestion-hyperband  \u001b[36mfilename\u001b[0m=\"cluster/upsert.go:92\"\n",
      "\u001b[36mINFO\u001b[0m[0381] Applying deployments kubeflow.vizier-suggestion-grid  \u001b[36mfilename\u001b[0m=\"cluster/upsert.go:73\"\n",
      "\u001b[36mINFO\u001b[0m[0381] Creating non-existent deployments kubeflow.vizier-suggestion-grid  \u001b[36mfilename\u001b[0m=\"cluster/upsert.go:92\"\n",
      "\u001b[36mINFO\u001b[0m[0382] Applying deployments kubeflow.katib-ui        \u001b[36mfilename\u001b[0m=\"cluster/upsert.go:73\"\n",
      "\u001b[36mINFO\u001b[0m[0382] Creating non-existent deployments kubeflow.katib-ui  \u001b[36mfilename\u001b[0m=\"cluster/upsert.go:92\"\n",
      "\u001b[36mINFO\u001b[0m[0383] Applying deployments kubeflow.vizier-core-rest  \u001b[36mfilename\u001b[0m=\"cluster/upsert.go:73\"\n",
      "\u001b[36mINFO\u001b[0m[0383] Creating non-existent deployments kubeflow.vizier-core-rest  \u001b[36mfilename\u001b[0m=\"cluster/upsert.go:92\"\n",
      "\u001b[36mINFO\u001b[0m[0384] Applying deployments kubeflow.vizier-db       \u001b[36mfilename\u001b[0m=\"cluster/upsert.go:73\"\n",
      "\u001b[36mINFO\u001b[0m[0384] Creating non-existent deployments kubeflow.vizier-db  \u001b[36mfilename\u001b[0m=\"cluster/upsert.go:92\"\n",
      "\u001b[36mINFO\u001b[0m[0384] Applying deployments kubeflow.studyjob-controller  \u001b[36mfilename\u001b[0m=\"cluster/upsert.go:73\"\n",
      "\u001b[36mINFO\u001b[0m[0385] Creating non-existent deployments kubeflow.studyjob-controller  \u001b[36mfilename\u001b[0m=\"cluster/upsert.go:92\"\n",
      "\u001b[36mINFO\u001b[0m[0386] Applying deployments kubeflow.vizier-core     \u001b[36mfilename\u001b[0m=\"cluster/upsert.go:73\"\n",
      "\u001b[36mINFO\u001b[0m[0386] Creating non-existent deployments kubeflow.vizier-core  \u001b[36mfilename\u001b[0m=\"cluster/upsert.go:92\"\n",
      "\u001b[36mINFO\u001b[0m[0386] Applying deployments kubeflow.vizier-suggestion-random  \u001b[36mfilename\u001b[0m=\"cluster/upsert.go:73\"\n",
      "\u001b[36mINFO\u001b[0m[0386] Creating non-existent deployments kubeflow.vizier-suggestion-random  \u001b[36mfilename\u001b[0m=\"cluster/upsert.go:92\"\n",
      "\u001b[36mINFO\u001b[0m[0387] Component katib apply succeeded               \u001b[36mfilename\u001b[0m=\"ksonnet/ksonnet.go:171\"\n",
      "\u001b[36mINFO\u001b[0m[0393] Applying customresourcedefinitions compositecontrollers.metacontroller.k8s.io  \u001b[36mfilename\u001b[0m=\"cluster/upsert.go:73\"\n",
      "\u001b[36mINFO\u001b[0m[0393] Creating non-existent customresourcedefinitions compositecontrollers.metacontroller.k8s.io  \u001b[36mfilename\u001b[0m=\"cluster/upsert.go:92\"\n",
      "\u001b[36mINFO\u001b[0m[0394] Applying customresourcedefinitions controllerrevisions.metacontroller.k8s.io  \u001b[36mfilename\u001b[0m=\"cluster/upsert.go:73\"\n",
      "\u001b[36mINFO\u001b[0m[0394] Creating non-existent customresourcedefinitions controllerrevisions.metacontroller.k8s.io  \u001b[36mfilename\u001b[0m=\"cluster/upsert.go:92\"\n",
      "\u001b[36mINFO\u001b[0m[0395] Applying customresourcedefinitions decoratorcontrollers.metacontroller.k8s.io  \u001b[36mfilename\u001b[0m=\"cluster/upsert.go:73\"\n",
      "\u001b[36mINFO\u001b[0m[0395] Creating non-existent customresourcedefinitions decoratorcontrollers.metacontroller.k8s.io  \u001b[36mfilename\u001b[0m=\"cluster/upsert.go:92\"\n",
      "\u001b[36mINFO\u001b[0m[0396] Applying serviceaccounts kubeflow.meta-controller-service  \u001b[36mfilename\u001b[0m=\"cluster/upsert.go:73\"\n",
      "\u001b[36mINFO\u001b[0m[0396] Creating non-existent serviceaccounts kubeflow.meta-controller-service  \u001b[36mfilename\u001b[0m=\"cluster/upsert.go:92\"\n",
      "\u001b[36mINFO\u001b[0m[0397] Applying clusterrolebindings meta-controller-cluster-role-binding  \u001b[36mfilename\u001b[0m=\"cluster/upsert.go:73\"\n",
      "\u001b[36mINFO\u001b[0m[0397] Creating non-existent clusterrolebindings meta-controller-cluster-role-binding  \u001b[36mfilename\u001b[0m=\"cluster/upsert.go:92\"\n",
      "\u001b[36mINFO\u001b[0m[0398] Applying statefulsets kubeflow.metacontroller  \u001b[36mfilename\u001b[0m=\"cluster/upsert.go:73\"\n",
      "\u001b[36mINFO\u001b[0m[0398] Creating non-existent statefulsets kubeflow.metacontroller  \u001b[36mfilename\u001b[0m=\"cluster/upsert.go:92\"\n",
      "\u001b[36mINFO\u001b[0m[0398] Component metacontroller apply succeeded      \u001b[36mfilename\u001b[0m=\"ksonnet/ksonnet.go:171\"\n",
      "\u001b[36mINFO\u001b[0m[0404] Applying customresourcedefinitions notebooks.kubeflow.org  \u001b[36mfilename\u001b[0m=\"cluster/upsert.go:73\"\n",
      "\u001b[36mINFO\u001b[0m[0404] Creating non-existent customresourcedefinitions notebooks.kubeflow.org  \u001b[36mfilename\u001b[0m=\"cluster/upsert.go:92\"\n",
      "\u001b[36mINFO\u001b[0m[0405] Applying services kubeflow.notebooks-controller  \u001b[36mfilename\u001b[0m=\"cluster/upsert.go:73\"\n",
      "\u001b[36mINFO\u001b[0m[0405] Creating non-existent services kubeflow.notebooks-controller  \u001b[36mfilename\u001b[0m=\"cluster/upsert.go:92\"\n"
     ]
    },
    {
     "name": "stdout",
     "output_type": "stream",
     "text": [
      "\u001b[36mINFO\u001b[0m[0405] Applying serviceaccounts kubeflow.notebook-controller  \u001b[36mfilename\u001b[0m=\"cluster/upsert.go:73\"\n",
      "\u001b[36mINFO\u001b[0m[0405] Creating non-existent serviceaccounts kubeflow.notebook-controller  \u001b[36mfilename\u001b[0m=\"cluster/upsert.go:92\"\n",
      "\u001b[36mINFO\u001b[0m[0406] Applying deployments kubeflow.notebooks-controller  \u001b[36mfilename\u001b[0m=\"cluster/upsert.go:73\"\n",
      "\u001b[36mINFO\u001b[0m[0406] Creating non-existent deployments kubeflow.notebooks-controller  \u001b[36mfilename\u001b[0m=\"cluster/upsert.go:92\"\n",
      "\u001b[36mINFO\u001b[0m[0408] Applying clusterroles notebooks-controller    \u001b[36mfilename\u001b[0m=\"cluster/upsert.go:73\"\n",
      "\u001b[36mINFO\u001b[0m[0408] Creating non-existent clusterroles notebooks-controller  \u001b[36mfilename\u001b[0m=\"cluster/upsert.go:92\"\n",
      "\u001b[36mINFO\u001b[0m[0408] Applying clusterrolebindings notebooks-controller  \u001b[36mfilename\u001b[0m=\"cluster/upsert.go:73\"\n",
      "\u001b[36mINFO\u001b[0m[0409] Creating non-existent clusterrolebindings notebooks-controller  \u001b[36mfilename\u001b[0m=\"cluster/upsert.go:92\"\n",
      "\u001b[36mINFO\u001b[0m[0409] Component notebook-controller apply succeeded  \u001b[36mfilename\u001b[0m=\"ksonnet/ksonnet.go:171\"\n",
      "\u001b[36mINFO\u001b[0m[0414] Applying services kubeflow.minio-service      \u001b[36mfilename\u001b[0m=\"cluster/upsert.go:73\"\n",
      "\u001b[36mINFO\u001b[0m[0415] Creating non-existent services kubeflow.minio-service  \u001b[36mfilename\u001b[0m=\"cluster/upsert.go:92\"\n",
      "\u001b[36mINFO\u001b[0m[0416] Applying deployments kubeflow.minio           \u001b[36mfilename\u001b[0m=\"cluster/upsert.go:73\"\n",
      "\u001b[36mINFO\u001b[0m[0416] Creating non-existent deployments kubeflow.minio  \u001b[36mfilename\u001b[0m=\"cluster/upsert.go:92\"\n",
      "\u001b[36mINFO\u001b[0m[0417] Applying secrets kubeflow.mlpipeline-minio-artifact  \u001b[36mfilename\u001b[0m=\"cluster/upsert.go:73\"\n",
      "\u001b[36mINFO\u001b[0m[0417] Creating non-existent secrets kubeflow.mlpipeline-minio-artifact  \u001b[36mfilename\u001b[0m=\"cluster/upsert.go:92\"\n",
      "\u001b[36mINFO\u001b[0m[0418] Applying services kubeflow.mysql              \u001b[36mfilename\u001b[0m=\"cluster/upsert.go:73\"\n",
      "\u001b[36mINFO\u001b[0m[0418] Creating non-existent services kubeflow.mysql  \u001b[36mfilename\u001b[0m=\"cluster/upsert.go:92\"\n",
      "\u001b[36mINFO\u001b[0m[0418] Applying deployments kubeflow.mysql           \u001b[36mfilename\u001b[0m=\"cluster/upsert.go:73\"\n",
      "\u001b[36mINFO\u001b[0m[0419] Creating non-existent deployments kubeflow.mysql  \u001b[36mfilename\u001b[0m=\"cluster/upsert.go:92\"\n",
      "\u001b[36mINFO\u001b[0m[0419] Applying serviceaccounts kubeflow.ml-pipeline  \u001b[36mfilename\u001b[0m=\"cluster/upsert.go:73\"\n",
      "\u001b[36mINFO\u001b[0m[0419] Creating non-existent serviceaccounts kubeflow.ml-pipeline  \u001b[36mfilename\u001b[0m=\"cluster/upsert.go:92\"\n",
      "\u001b[36mINFO\u001b[0m[0420] Applying rolebindings kubeflow.ml-pipeline    \u001b[36mfilename\u001b[0m=\"cluster/upsert.go:73\"\n",
      "\u001b[36mINFO\u001b[0m[0420] Creating non-existent rolebindings kubeflow.ml-pipeline  \u001b[36mfilename\u001b[0m=\"cluster/upsert.go:92\"\n",
      "\u001b[36mINFO\u001b[0m[0421] Applying roles kubeflow.ml-pipeline           \u001b[36mfilename\u001b[0m=\"cluster/upsert.go:73\"\n",
      "\u001b[36mINFO\u001b[0m[0421] Creating non-existent roles kubeflow.ml-pipeline  \u001b[36mfilename\u001b[0m=\"cluster/upsert.go:92\"\n",
      "\u001b[36mINFO\u001b[0m[0421] Applying services kubeflow.ml-pipeline        \u001b[36mfilename\u001b[0m=\"cluster/upsert.go:73\"\n",
      "\u001b[36mINFO\u001b[0m[0421] Creating non-existent services kubeflow.ml-pipeline  \u001b[36mfilename\u001b[0m=\"cluster/upsert.go:92\"\n",
      "\u001b[36mINFO\u001b[0m[0422] Applying deployments kubeflow.ml-pipeline     \u001b[36mfilename\u001b[0m=\"cluster/upsert.go:73\"\n",
      "\u001b[36mINFO\u001b[0m[0422] Creating non-existent deployments kubeflow.ml-pipeline  \u001b[36mfilename\u001b[0m=\"cluster/upsert.go:92\"\n",
      "\u001b[36mINFO\u001b[0m[0422] Applying serviceaccounts kubeflow.pipeline-runner  \u001b[36mfilename\u001b[0m=\"cluster/upsert.go:73\"\n",
      "\u001b[36mINFO\u001b[0m[0423] Creating non-existent serviceaccounts kubeflow.pipeline-runner  \u001b[36mfilename\u001b[0m=\"cluster/upsert.go:92\"\n",
      "\u001b[36mINFO\u001b[0m[0423] Applying clusterroles pipeline-runner         \u001b[36mfilename\u001b[0m=\"cluster/upsert.go:73\"\n",
      "\u001b[36mINFO\u001b[0m[0423] Creating non-existent clusterroles pipeline-runner  \u001b[36mfilename\u001b[0m=\"cluster/upsert.go:92\"\n",
      "\u001b[36mINFO\u001b[0m[0423] Applying clusterrolebindings pipeline-runner  \u001b[36mfilename\u001b[0m=\"cluster/upsert.go:73\"\n",
      "\u001b[36mINFO\u001b[0m[0424] Creating non-existent clusterrolebindings pipeline-runner  \u001b[36mfilename\u001b[0m=\"cluster/upsert.go:92\"\n",
      "\u001b[36mINFO\u001b[0m[0424] Applying serviceaccounts kubeflow.ml-pipeline-scheduledworkflow  \u001b[36mfilename\u001b[0m=\"cluster/upsert.go:73\"\n",
      "\u001b[36mINFO\u001b[0m[0424] Creating non-existent serviceaccounts kubeflow.ml-pipeline-scheduledworkflow  \u001b[36mfilename\u001b[0m=\"cluster/upsert.go:92\"\n",
      "\u001b[36mINFO\u001b[0m[0425] Applying clusterrolebindings ml-pipeline-scheduledworkflow  \u001b[36mfilename\u001b[0m=\"cluster/upsert.go:73\"\n",
      "\u001b[36mINFO\u001b[0m[0425] Creating non-existent clusterrolebindings ml-pipeline-scheduledworkflow  \u001b[36mfilename\u001b[0m=\"cluster/upsert.go:92\"\n",
      "\u001b[36mINFO\u001b[0m[0425] Applying roles kubeflow.ml-pipeline-scheduledworkflow  \u001b[36mfilename\u001b[0m=\"cluster/upsert.go:73\"\n",
      "\u001b[36mINFO\u001b[0m[0425] Creating non-existent roles kubeflow.ml-pipeline-scheduledworkflow  \u001b[36mfilename\u001b[0m=\"cluster/upsert.go:92\"\n",
      "\u001b[36mINFO\u001b[0m[0426] Applying deployments kubeflow.ml-pipeline-scheduledworkflow  \u001b[36mfilename\u001b[0m=\"cluster/upsert.go:73\"\n",
      "\u001b[36mINFO\u001b[0m[0426] Creating non-existent deployments kubeflow.ml-pipeline-scheduledworkflow  \u001b[36mfilename\u001b[0m=\"cluster/upsert.go:92\"\n",
      "\u001b[36mINFO\u001b[0m[0427] Applying customresourcedefinitions scheduledworkflows.kubeflow.org  \u001b[36mfilename\u001b[0m=\"cluster/upsert.go:73\"\n",
      "\u001b[36mINFO\u001b[0m[0427] Creating non-existent customresourcedefinitions scheduledworkflows.kubeflow.org  \u001b[36mfilename\u001b[0m=\"cluster/upsert.go:92\"\n",
      "\u001b[36mINFO\u001b[0m[0427] Applying serviceaccounts kubeflow.ml-pipeline-persistenceagent  \u001b[36mfilename\u001b[0m=\"cluster/upsert.go:73\"\n",
      "\u001b[36mINFO\u001b[0m[0427] Creating non-existent serviceaccounts kubeflow.ml-pipeline-persistenceagent  \u001b[36mfilename\u001b[0m=\"cluster/upsert.go:92\"\n",
      "\u001b[36mINFO\u001b[0m[0428] Applying clusterrolebindings ml-pipeline-persistenceagent  \u001b[36mfilename\u001b[0m=\"cluster/upsert.go:73\"\n",
      "\u001b[36mINFO\u001b[0m[0428] Creating non-existent clusterrolebindings ml-pipeline-persistenceagent  \u001b[36mfilename\u001b[0m=\"cluster/upsert.go:92\"\n",
      "\u001b[36mINFO\u001b[0m[0428] Applying clusterroles ml-pipeline-persistenceagent  \u001b[36mfilename\u001b[0m=\"cluster/upsert.go:73\"\n",
      "\u001b[36mINFO\u001b[0m[0429] Creating non-existent clusterroles ml-pipeline-persistenceagent  \u001b[36mfilename\u001b[0m=\"cluster/upsert.go:92\"\n",
      "\u001b[36mINFO\u001b[0m[0429] Applying deployments kubeflow.ml-pipeline-persistenceagent  \u001b[36mfilename\u001b[0m=\"cluster/upsert.go:73\"\n",
      "\u001b[36mINFO\u001b[0m[0429] Creating non-existent deployments kubeflow.ml-pipeline-persistenceagent  \u001b[36mfilename\u001b[0m=\"cluster/upsert.go:92\"\n",
      "\u001b[36mINFO\u001b[0m[0430] Applying serviceaccounts kubeflow.ml-pipeline-viewer-crd-service-account  \u001b[36mfilename\u001b[0m=\"cluster/upsert.go:73\"\n",
      "\u001b[36mINFO\u001b[0m[0430] Creating non-existent serviceaccounts kubeflow.ml-pipeline-viewer-crd-service-account  \u001b[36mfilename\u001b[0m=\"cluster/upsert.go:92\"\n",
      "\u001b[36mINFO\u001b[0m[0430] Applying clusterrolebindings ml-pipeline-viewer-crd-role-binding  \u001b[36mfilename\u001b[0m=\"cluster/upsert.go:73\"\n",
      "\u001b[36mINFO\u001b[0m[0430] Creating non-existent clusterrolebindings ml-pipeline-viewer-crd-role-binding  \u001b[36mfilename\u001b[0m=\"cluster/upsert.go:92\"\n",
      "\u001b[36mINFO\u001b[0m[0431] Applying clusterroles ml-pipeline-viewer-controller-role  \u001b[36mfilename\u001b[0m=\"cluster/upsert.go:73\"\n",
      "\u001b[36mINFO\u001b[0m[0431] Creating non-existent clusterroles ml-pipeline-viewer-controller-role  \u001b[36mfilename\u001b[0m=\"cluster/upsert.go:92\"\n",
      "\u001b[36mINFO\u001b[0m[0431] Applying deployments kubeflow.ml-pipeline-viewer-controller-deployment  \u001b[36mfilename\u001b[0m=\"cluster/upsert.go:73\"\n",
      "\u001b[36mINFO\u001b[0m[0431] Creating non-existent deployments kubeflow.ml-pipeline-viewer-controller-deployment  \u001b[36mfilename\u001b[0m=\"cluster/upsert.go:92\"\n",
      "\u001b[36mINFO\u001b[0m[0432] Applying customresourcedefinitions viewers.kubeflow.org  \u001b[36mfilename\u001b[0m=\"cluster/upsert.go:73\"\n",
      "\u001b[36mINFO\u001b[0m[0432] Creating non-existent customresourcedefinitions viewers.kubeflow.org  \u001b[36mfilename\u001b[0m=\"cluster/upsert.go:92\"\n",
      "\u001b[36mINFO\u001b[0m[0432] Applying serviceaccounts kubeflow.ml-pipeline-ui  \u001b[36mfilename\u001b[0m=\"cluster/upsert.go:73\"\n",
      "\u001b[36mINFO\u001b[0m[0432] Creating non-existent serviceaccounts kubeflow.ml-pipeline-ui  \u001b[36mfilename\u001b[0m=\"cluster/upsert.go:92\"\n",
      "\u001b[36mINFO\u001b[0m[0433] Applying services kubeflow.ml-pipeline-ui     \u001b[36mfilename\u001b[0m=\"cluster/upsert.go:73\"\n",
      "\u001b[36mINFO\u001b[0m[0433] Creating non-existent services kubeflow.ml-pipeline-ui  \u001b[36mfilename\u001b[0m=\"cluster/upsert.go:92\"\n",
      "\u001b[36mINFO\u001b[0m[0433] Applying services kubeflow.ml-pipeline-tensorboard-ui  \u001b[36mfilename\u001b[0m=\"cluster/upsert.go:73\"\n",
      "\u001b[36mINFO\u001b[0m[0434] Creating non-existent services kubeflow.ml-pipeline-tensorboard-ui  \u001b[36mfilename\u001b[0m=\"cluster/upsert.go:92\"\n"
     ]
    },
    {
     "name": "stdout",
     "output_type": "stream",
     "text": [
      "\u001b[36mINFO\u001b[0m[0434] Applying rolebindings kubeflow.ml-pipeline-ui  \u001b[36mfilename\u001b[0m=\"cluster/upsert.go:73\"\n",
      "\u001b[36mINFO\u001b[0m[0434] Creating non-existent rolebindings kubeflow.ml-pipeline-ui  \u001b[36mfilename\u001b[0m=\"cluster/upsert.go:92\"\n",
      "\u001b[36mINFO\u001b[0m[0435] Applying roles kubeflow.ml-pipeline-ui        \u001b[36mfilename\u001b[0m=\"cluster/upsert.go:73\"\n",
      "\u001b[36mINFO\u001b[0m[0435] Creating non-existent roles kubeflow.ml-pipeline-ui  \u001b[36mfilename\u001b[0m=\"cluster/upsert.go:92\"\n",
      "\u001b[36mINFO\u001b[0m[0435] Applying deployments kubeflow.ml-pipeline-ui  \u001b[36mfilename\u001b[0m=\"cluster/upsert.go:73\"\n",
      "\u001b[36mINFO\u001b[0m[0435] Creating non-existent deployments kubeflow.ml-pipeline-ui  \u001b[36mfilename\u001b[0m=\"cluster/upsert.go:92\"\n",
      "\u001b[36mINFO\u001b[0m[0436] Applying persistentvolumeclaims kubeflow.mysql-pv-claim  \u001b[36mfilename\u001b[0m=\"cluster/upsert.go:73\"\n",
      "\u001b[36mINFO\u001b[0m[0436] Creating non-existent persistentvolumeclaims kubeflow.mysql-pv-claim  \u001b[36mfilename\u001b[0m=\"cluster/upsert.go:92\"\n",
      "\u001b[36mINFO\u001b[0m[0436] Applying persistentvolumeclaims kubeflow.minio-pvc  \u001b[36mfilename\u001b[0m=\"cluster/upsert.go:73\"\n",
      "\u001b[36mINFO\u001b[0m[0436] Creating non-existent persistentvolumeclaims kubeflow.minio-pvc  \u001b[36mfilename\u001b[0m=\"cluster/upsert.go:92\"\n",
      "\u001b[36mINFO\u001b[0m[0437] Applying persistentvolumes kubeflow.mysql-pv  \u001b[36mfilename\u001b[0m=\"cluster/upsert.go:73\"\n",
      "\u001b[36mINFO\u001b[0m[0437] Creating non-existent persistentvolumes kubeflow.mysql-pv  \u001b[36mfilename\u001b[0m=\"cluster/upsert.go:92\"\n",
      "\u001b[36mINFO\u001b[0m[0438] Applying persistentvolumes kubeflow.minio-pv  \u001b[36mfilename\u001b[0m=\"cluster/upsert.go:73\"\n",
      "\u001b[36mINFO\u001b[0m[0438] Creating non-existent persistentvolumes kubeflow.minio-pv  \u001b[36mfilename\u001b[0m=\"cluster/upsert.go:92\"\n",
      "\u001b[36mINFO\u001b[0m[0439] Component pipeline apply succeeded            \u001b[36mfilename\u001b[0m=\"ksonnet/ksonnet.go:171\"\n",
      "\u001b[36mINFO\u001b[0m[0445] Applying configmaps kubeflow.pytorch-operator-config  \u001b[36mfilename\u001b[0m=\"cluster/upsert.go:73\"\n",
      "\u001b[36mINFO\u001b[0m[0446] Creating non-existent configmaps kubeflow.pytorch-operator-config  \u001b[36mfilename\u001b[0m=\"cluster/upsert.go:92\"\n",
      "\u001b[36mINFO\u001b[0m[0446] Applying serviceaccounts kubeflow.pytorch-operator  \u001b[36mfilename\u001b[0m=\"cluster/upsert.go:73\"\n",
      "\u001b[36mINFO\u001b[0m[0446] Creating non-existent serviceaccounts kubeflow.pytorch-operator  \u001b[36mfilename\u001b[0m=\"cluster/upsert.go:92\"\n",
      "\u001b[36mINFO\u001b[0m[0447] Applying clusterroles pytorch-operator        \u001b[36mfilename\u001b[0m=\"cluster/upsert.go:73\"\n",
      "\u001b[36mINFO\u001b[0m[0447] Creating non-existent clusterroles pytorch-operator  \u001b[36mfilename\u001b[0m=\"cluster/upsert.go:92\"\n",
      "\u001b[36mINFO\u001b[0m[0447] Applying clusterrolebindings pytorch-operator  \u001b[36mfilename\u001b[0m=\"cluster/upsert.go:73\"\n",
      "\u001b[36mINFO\u001b[0m[0448] Creating non-existent clusterrolebindings pytorch-operator  \u001b[36mfilename\u001b[0m=\"cluster/upsert.go:92\"\n",
      "\u001b[36mINFO\u001b[0m[0448] Applying customresourcedefinitions pytorchjobs.kubeflow.org  \u001b[36mfilename\u001b[0m=\"cluster/upsert.go:73\"\n",
      "\u001b[36mINFO\u001b[0m[0449] Creating non-existent customresourcedefinitions pytorchjobs.kubeflow.org  \u001b[36mfilename\u001b[0m=\"cluster/upsert.go:92\"\n",
      "\u001b[36mINFO\u001b[0m[0450] Applying deployments kubeflow.pytorch-operator  \u001b[36mfilename\u001b[0m=\"cluster/upsert.go:73\"\n",
      "\u001b[36mINFO\u001b[0m[0450] Creating non-existent deployments kubeflow.pytorch-operator  \u001b[36mfilename\u001b[0m=\"cluster/upsert.go:92\"\n",
      "\u001b[36mINFO\u001b[0m[0451] Component pytorch-operator apply succeeded    \u001b[36mfilename\u001b[0m=\"ksonnet/ksonnet.go:171\"\n",
      "\u001b[36mINFO\u001b[0m[0456] Applying clusterroles spartakus               \u001b[36mfilename\u001b[0m=\"cluster/upsert.go:73\"\n",
      "\u001b[36mINFO\u001b[0m[0457] Creating non-existent clusterroles spartakus  \u001b[36mfilename\u001b[0m=\"cluster/upsert.go:92\"\n",
      "\u001b[36mINFO\u001b[0m[0457] Applying clusterrolebindings spartakus        \u001b[36mfilename\u001b[0m=\"cluster/upsert.go:73\"\n",
      "\u001b[36mINFO\u001b[0m[0457] Creating non-existent clusterrolebindings spartakus  \u001b[36mfilename\u001b[0m=\"cluster/upsert.go:92\"\n",
      "\u001b[36mINFO\u001b[0m[0458] Applying serviceaccounts kubeflow.spartakus   \u001b[36mfilename\u001b[0m=\"cluster/upsert.go:73\"\n",
      "\u001b[36mINFO\u001b[0m[0458] Creating non-existent serviceaccounts kubeflow.spartakus  \u001b[36mfilename\u001b[0m=\"cluster/upsert.go:92\"\n",
      "\u001b[36mINFO\u001b[0m[0459] Applying deployments kubeflow.spartakus-volunteer  \u001b[36mfilename\u001b[0m=\"cluster/upsert.go:73\"\n",
      "\u001b[36mINFO\u001b[0m[0459] Creating non-existent deployments kubeflow.spartakus-volunteer  \u001b[36mfilename\u001b[0m=\"cluster/upsert.go:92\"\n",
      "\u001b[36mINFO\u001b[0m[0459] Component spartakus apply succeeded           \u001b[36mfilename\u001b[0m=\"ksonnet/ksonnet.go:171\"\n",
      "\u001b[36mINFO\u001b[0m[0465] Applying services kubeflow.tensorboard        \u001b[36mfilename\u001b[0m=\"cluster/upsert.go:73\"\n",
      "\u001b[36mINFO\u001b[0m[0465] Creating non-existent services kubeflow.tensorboard  \u001b[36mfilename\u001b[0m=\"cluster/upsert.go:92\"\n",
      "\u001b[36mINFO\u001b[0m[0466] Applying deployments kubeflow.tensorboard     \u001b[36mfilename\u001b[0m=\"cluster/upsert.go:73\"\n",
      "\u001b[36mINFO\u001b[0m[0467] Creating non-existent deployments kubeflow.tensorboard  \u001b[36mfilename\u001b[0m=\"cluster/upsert.go:92\"\n",
      "\u001b[36mINFO\u001b[0m[0467] Component tensorboard apply succeeded         \u001b[36mfilename\u001b[0m=\"ksonnet/ksonnet.go:171\"\n",
      "\u001b[36mINFO\u001b[0m[0472] Applying customresourcedefinitions tfjobs.kubeflow.org  \u001b[36mfilename\u001b[0m=\"cluster/upsert.go:73\"\n",
      "\u001b[36mINFO\u001b[0m[0472] Creating non-existent customresourcedefinitions tfjobs.kubeflow.org  \u001b[36mfilename\u001b[0m=\"cluster/upsert.go:92\"\n",
      "\u001b[36mINFO\u001b[0m[0473] Applying serviceaccounts kubeflow.tf-job-dashboard  \u001b[36mfilename\u001b[0m=\"cluster/upsert.go:73\"\n",
      "\u001b[36mINFO\u001b[0m[0474] Creating non-existent serviceaccounts kubeflow.tf-job-dashboard  \u001b[36mfilename\u001b[0m=\"cluster/upsert.go:92\"\n",
      "\u001b[36mINFO\u001b[0m[0474] Applying configmaps kubeflow.tf-job-operator-config  \u001b[36mfilename\u001b[0m=\"cluster/upsert.go:73\"\n",
      "\u001b[36mINFO\u001b[0m[0474] Creating non-existent configmaps kubeflow.tf-job-operator-config  \u001b[36mfilename\u001b[0m=\"cluster/upsert.go:92\"\n",
      "\u001b[36mINFO\u001b[0m[0475] Applying serviceaccounts kubeflow.tf-job-operator  \u001b[36mfilename\u001b[0m=\"cluster/upsert.go:73\"\n",
      "\u001b[36mINFO\u001b[0m[0475] Creating non-existent serviceaccounts kubeflow.tf-job-operator  \u001b[36mfilename\u001b[0m=\"cluster/upsert.go:92\"\n",
      "\u001b[36mINFO\u001b[0m[0475] Applying clusterroles tf-job-operator         \u001b[36mfilename\u001b[0m=\"cluster/upsert.go:73\"\n",
      "\u001b[36mINFO\u001b[0m[0476] Creating non-existent clusterroles tf-job-operator  \u001b[36mfilename\u001b[0m=\"cluster/upsert.go:92\"\n",
      "\u001b[36mINFO\u001b[0m[0476] Applying clusterrolebindings tf-job-operator  \u001b[36mfilename\u001b[0m=\"cluster/upsert.go:73\"\n",
      "\u001b[36mINFO\u001b[0m[0476] Creating non-existent clusterrolebindings tf-job-operator  \u001b[36mfilename\u001b[0m=\"cluster/upsert.go:92\"\n",
      "\u001b[36mINFO\u001b[0m[0477] Applying services kubeflow.tf-job-dashboard   \u001b[36mfilename\u001b[0m=\"cluster/upsert.go:73\"\n",
      "\u001b[36mINFO\u001b[0m[0477] Creating non-existent services kubeflow.tf-job-dashboard  \u001b[36mfilename\u001b[0m=\"cluster/upsert.go:92\"\n",
      "\u001b[36mINFO\u001b[0m[0477] Applying clusterroles tf-job-dashboard        \u001b[36mfilename\u001b[0m=\"cluster/upsert.go:73\"\n",
      "\u001b[36mINFO\u001b[0m[0477] Creating non-existent clusterroles tf-job-dashboard  \u001b[36mfilename\u001b[0m=\"cluster/upsert.go:92\"\n",
      "\u001b[36mINFO\u001b[0m[0478] Applying clusterrolebindings tf-job-dashboard  \u001b[36mfilename\u001b[0m=\"cluster/upsert.go:73\"\n",
      "\u001b[36mINFO\u001b[0m[0478] Creating non-existent clusterrolebindings tf-job-dashboard  \u001b[36mfilename\u001b[0m=\"cluster/upsert.go:92\"\n",
      "\u001b[36mINFO\u001b[0m[0478] Applying deployments kubeflow.tf-job-operator  \u001b[36mfilename\u001b[0m=\"cluster/upsert.go:73\"\n",
      "\u001b[36mINFO\u001b[0m[0479] Creating non-existent deployments kubeflow.tf-job-operator  \u001b[36mfilename\u001b[0m=\"cluster/upsert.go:92\"\n",
      "\u001b[36mINFO\u001b[0m[0479] Applying deployments kubeflow.tf-job-dashboard  \u001b[36mfilename\u001b[0m=\"cluster/upsert.go:73\"\n",
      "\u001b[36mINFO\u001b[0m[0479] Creating non-existent deployments kubeflow.tf-job-dashboard  \u001b[36mfilename\u001b[0m=\"cluster/upsert.go:92\"\n",
      "\u001b[36mINFO\u001b[0m[0479] Component tf-job-operator apply succeeded     \u001b[36mfilename\u001b[0m=\"ksonnet/ksonnet.go:171\"\n",
      "\u001b[36mINFO\u001b[0m[0493] Applying serviceaccounts kubeflow.envoy       \u001b[36mfilename\u001b[0m=\"cluster/upsert.go:73\"\n",
      "\u001b[36mINFO\u001b[0m[0496] Applying clusterrolebindings envoy            \u001b[36mfilename\u001b[0m=\"cluster/upsert.go:73\"\n",
      "\u001b[36mINFO\u001b[0m[0501] Applying clusterroles envoy                   \u001b[36mfilename\u001b[0m=\"cluster/upsert.go:73\"\n",
      "\u001b[36mINFO\u001b[0m[0504] Applying services kubeflow.whoami-app         \u001b[36mfilename\u001b[0m=\"cluster/upsert.go:73\"\n",
      "\u001b[36mINFO\u001b[0m[0504] Applying certificates kubeflow.envoy-ingress-tls  \u001b[36mfilename\u001b[0m=\"cluster/upsert.go:73\"\n",
      "\u001b[36mINFO\u001b[0m[0505] Creating non-existent certificates kubeflow.envoy-ingress-tls  \u001b[36mfilename\u001b[0m=\"cluster/upsert.go:92\"\n",
      "\u001b[36mINFO\u001b[0m[0505] Applying cloudendpoints kubeflow.kfapp3       \u001b[36mfilename\u001b[0m=\"cluster/upsert.go:73\"\n"
     ]
    },
    {
     "name": "stdout",
     "output_type": "stream",
     "text": [
      "\u001b[36mINFO\u001b[0m[0506] Creating non-existent cloudendpoints kubeflow.kfapp3  \u001b[36mfilename\u001b[0m=\"cluster/upsert.go:92\"\n",
      "\u001b[36mINFO\u001b[0m[0506] Applying configmaps kubeflow.envoy-config     \u001b[36mfilename\u001b[0m=\"cluster/upsert.go:73\"\n",
      "\u001b[36mINFO\u001b[0m[0506] Creating non-existent configmaps kubeflow.envoy-config  \u001b[36mfilename\u001b[0m=\"cluster/upsert.go:92\"\n",
      "\u001b[36mINFO\u001b[0m[0507] Applying configmaps kubeflow.ingress-bootstrap-config  \u001b[36mfilename\u001b[0m=\"cluster/upsert.go:73\"\n",
      "\u001b[36mINFO\u001b[0m[0507] Creating non-existent configmaps kubeflow.ingress-bootstrap-config  \u001b[36mfilename\u001b[0m=\"cluster/upsert.go:92\"\n",
      "\u001b[36mINFO\u001b[0m[0507] Applying ingresses kubeflow.envoy-ingress     \u001b[36mfilename\u001b[0m=\"cluster/upsert.go:73\"\n",
      "\u001b[36mINFO\u001b[0m[0508] Creating non-existent ingresses kubeflow.envoy-ingress  \u001b[36mfilename\u001b[0m=\"cluster/upsert.go:92\"\n",
      "\u001b[36mINFO\u001b[0m[0508] Applying jobs kubeflow.ingress-bootstrap      \u001b[36mfilename\u001b[0m=\"cluster/upsert.go:73\"\n",
      "\u001b[36mINFO\u001b[0m[0509] Creating non-existent jobs kubeflow.ingress-bootstrap  \u001b[36mfilename\u001b[0m=\"cluster/upsert.go:92\"\n",
      "\u001b[36mINFO\u001b[0m[0509] Applying deployments kubeflow.whoami-app      \u001b[36mfilename\u001b[0m=\"cluster/upsert.go:73\"\n",
      "\u001b[36mINFO\u001b[0m[0509] Creating non-existent deployments kubeflow.whoami-app  \u001b[36mfilename\u001b[0m=\"cluster/upsert.go:92\"\n",
      "\u001b[36mINFO\u001b[0m[0510] Applying statefulsets kubeflow.backend-updater  \u001b[36mfilename\u001b[0m=\"cluster/upsert.go:73\"\n",
      "\u001b[36mINFO\u001b[0m[0510] Creating non-existent statefulsets kubeflow.backend-updater  \u001b[36mfilename\u001b[0m=\"cluster/upsert.go:92\"\n",
      "\u001b[36mINFO\u001b[0m[0510] Component basic-auth-ingress apply succeeded  \u001b[36mfilename\u001b[0m=\"ksonnet/ksonnet.go:171\"\n",
      "\u001b[36mINFO\u001b[0m[0518] Applying customresourcedefinitions cloudendpoints.ctl.isla.solutions  \u001b[36mfilename\u001b[0m=\"cluster/upsert.go:73\"\n",
      "\u001b[36mINFO\u001b[0m[0522] Applying clusterroles cloud-endpoints-controller  \u001b[36mfilename\u001b[0m=\"cluster/upsert.go:73\"\n",
      "\u001b[36mINFO\u001b[0m[0526] Applying clusterrolebindings cloud-endpoints-controller  \u001b[36mfilename\u001b[0m=\"cluster/upsert.go:73\"\n",
      "\u001b[36mINFO\u001b[0m[0529] Applying services kubeflow.cloud-endpoints-controller  \u001b[36mfilename\u001b[0m=\"cluster/upsert.go:73\"\n",
      "\u001b[36mINFO\u001b[0m[0533] Applying serviceaccounts kubeflow.cloud-endpoints-controller  \u001b[36mfilename\u001b[0m=\"cluster/upsert.go:73\"\n",
      "\u001b[36mINFO\u001b[0m[0536] Applying deployments kubeflow.cloud-endpoints-controller  \u001b[36mfilename\u001b[0m=\"cluster/upsert.go:73\"\n",
      "\u001b[36mINFO\u001b[0m[0540] Applying compositecontrollers cloud-endpoints-controller  \u001b[36mfilename\u001b[0m=\"cluster/upsert.go:73\"\n",
      "\u001b[36mINFO\u001b[0m[0540] Creating non-existent compositecontrollers cloud-endpoints-controller  \u001b[36mfilename\u001b[0m=\"cluster/upsert.go:92\"\n",
      "\u001b[36mINFO\u001b[0m[0540] Component cloud-endpoints apply succeeded     \u001b[36mfilename\u001b[0m=\"ksonnet/ksonnet.go:171\"\n",
      "\u001b[36mINFO\u001b[0m[0540] All components apply succeeded                \u001b[36mfilename\u001b[0m=\"ksonnet/ksonnet.go:192\"\n"
     ]
    }
   ],
   "source": [
    "%env KUBEFLOW_USERNAME=$KUBEFLOW_USERNAME\n",
    "%env KUBEFLOW_PASSWORD=$KUBEFLOW_PASSWORD\n",
    "#!./kfctl init $KFAPP --platform gcp --project $PROJECT --use_basic_auth -V\n",
    "#%cd $KFAPP\n",
    "#!../kfctl generate all -V --zone $ZONE\n",
    "#!pwd\n",
    "!../kfctl apply all -V\n",
    "#https://kfapp3.endpoints.kubeflow-245520.cloud.goog/\n",
    "#./kfctl init kfapp3 --platform gcp --project kubeflow-245520 --use_basic_auth -V"
   ]
  },
  {
   "cell_type": "code",
   "execution_count": 11,
   "metadata": {},
   "outputs": [
    {
     "name": "stdout",
     "output_type": "stream",
     "text": [
      "\u001b[31mkfctl\u001b[m\u001b[m                      kubeflow.ipynb\r\n",
      "kfctl_v0.5.1_darwin.tar.gz\r\n"
     ]
    }
   ],
   "source": [
    "!ls"
   ]
  },
  {
   "cell_type": "markdown",
   "metadata": {},
   "source": [
    "After the cluster starts you can see it at ```https://${KFAPP}.endpoints.${PROJECT}.cloud.goog/```\n",
    "\n",
    "Next connect to Kubeflow cluster+deployment:"
   ]
  },
  {
   "cell_type": "code",
   "execution_count": 19,
   "metadata": {},
   "outputs": [
    {
     "name": "stdout",
     "output_type": "stream",
     "text": [
      "Fetching cluster endpoint and auth data.\n",
      "kubeconfig entry generated for kfapp3.\n"
     ]
    }
   ],
   "source": [
    "#%%capture\n",
    "!gcloud container clusters get-credentials $KFAPP --zone $ZONE --project $PROJECT"
   ]
  },
  {
   "cell_type": "markdown",
   "metadata": {},
   "source": [
    "# STEP 4: Make Storage Bucket\n",
    "Now we will set up a cloud storage location where our trained model will be stored:"
   ]
  },
  {
   "cell_type": "code",
   "execution_count": 20,
   "metadata": {},
   "outputs": [],
   "source": [
    "BUCKET_NAME=PROJECT + '-' + KFAPP + '-bucket'"
   ]
  },
  {
   "cell_type": "code",
   "execution_count": 21,
   "metadata": {},
   "outputs": [
    {
     "name": "stdout",
     "output_type": "stream",
     "text": [
      "us-west2-c gs://kubeflow-245520-kfapp3-bucket\n",
      "Creating gs://kubeflow-245520-kfapp3-bucket/...\n"
     ]
    }
   ],
   "source": [
    "!echo $ZONE gs://$BUCKET_NAME\n",
    "!gsutil mb -c regional -l $REGION gs://$BUCKET_NAME"
   ]
  },
  {
   "cell_type": "markdown",
   "metadata": {},
   "source": [
    "You should see the bucket listed at ```https://console.cloud.google.com/storage/browser?project=<PROJECT>```."
   ]
  },
  {
   "cell_type": "markdown",
   "metadata": {},
   "source": [
    "# STEP 5: Get code, build training Docker image, and Push it to the Registry\n",
    "The next step for getting Kubeflow running is to get the Docker training image built and stored in GCE where Kubeflow can find it.\n",
    "\n",
    "This is where you will start changing things for your own projects, but for this walk-through we will use the MNIST example."
   ]
  },
  {
   "cell_type": "code",
   "execution_count": 22,
   "metadata": {},
   "outputs": [
    {
     "name": "stdout",
     "output_type": "stream",
     "text": [
      "gcr.io/kubeflow-245520/kfapp3-train:1565285333\n"
     ]
    }
   ],
   "source": [
    "import datetime\n",
    "import time\n",
    "VERSION_TAG=str(round(time.time()))\n",
    "TRAIN_IMG_PATH=f\"gcr.io/{PROJECT}/{KFAPP}-train:{VERSION_TAG}\"\n",
    "WORKING_DIR=\"/Users/fieldcady/Desktop/examples/mnist\"\n",
    "print(TRAIN_IMG_PATH)"
   ]
  },
  {
   "cell_type": "code",
   "execution_count": 23,
   "metadata": {},
   "outputs": [],
   "source": [
    "%%capture\n",
    "!git clone https://github.com/kubeflow/examples.git\n",
    "!docker build -f examples/mnist/Dockerfile.model -t $TRAIN_IMG_PATH examples/mnist\n",
    "!gcloud auth configure-docker --quiet\n",
    "!docker push $TRAIN_IMG_PATH"
   ]
  },
  {
   "cell_type": "markdown",
   "metadata": {},
   "source": [
    "You should then be able to see the image in the Image Registry in gcloud at\n",
    "\n",
    "```https://console.cloud.google.com/gcr/images/<PROJECT>```"
   ]
  },
  {
   "cell_type": "markdown",
   "metadata": {},
   "source": [
    "# STEP 6: Create the training job and run it on the cluster"
   ]
  },
  {
   "cell_type": "markdown",
   "metadata": {},
   "source": [
    "First we cd into the directory with the configuration files for training and use kustomize to make some edits:"
   ]
  },
  {
   "cell_type": "code",
   "execution_count": 24,
   "metadata": {},
   "outputs": [],
   "source": [
    "%%capture\n",
    "%cd examples/mnist/training/GCS\n",
    "!kustomize edit add configmap mnist-map-training --from-literal=secretName=user-gcp-sa\n",
    "!kustomize edit add configmap mnist-map-training --from-literal=secretMountPath=/var/secrets\n",
    "!kustomize edit add configmap mnist-map-training --from-literal=GOOGLE_APPLICATION_CREDENTIALS=/var/secrets/user-gcp-sa.json"
   ]
  },
  {
   "cell_type": "markdown",
   "metadata": {},
   "source": [
    "At this point we **should** be one command away from launching the training job on our Kubeflow cluster.\n",
    "\n",
    "Alas, Kubeflow is an early-stage open-source project, and that means some rough edges.  In this case there are bugs that improperly handle the example configuration files, and we will need to edit them ourselves.  The two files that need editing are kustomization.yaml in the current directory (\"main file\") and kustomization.yaml in the base directory (\"base file\").  The changes that need to be made are:\n",
    "* In the main file the file Chief_patch.yaml gets added as a path.  But it needs a namespace associated with it that matches the one in the base file.  Do that by adding “namespace: kubeflow” to the properties underneath it.\n",
    "* The main and base files both have a \"vars:\" section that defines some properties.  Move all of the properties in the base file to the main file, deleting that section in the base file.\n",
    "\n",
    "For simplicity, the next cell will write versions of these files with those changes already made:"
   ]
  },
  {
   "cell_type": "code",
   "execution_count": 25,
   "metadata": {},
   "outputs": [],
   "source": [
    "!git checkout ../base/kustomization.yaml\n",
    "!git checkout kustomization.yaml"
   ]
  },
  {
   "cell_type": "code",
   "execution_count": 28,
   "metadata": {},
   "outputs": [],
   "source": [
    "base_file = \"\"\"apiVersion: kustomize.config.k8s.io/v1beta1\n",
    "kind: Kustomization\n",
    "\n",
    "resources:\n",
    "- Chief.yaml\n",
    "\n",
    "namespace: kubeflow\n",
    "\n",
    "generatorOptions:\n",
    "  disableNameSuffixHash: true\n",
    "\n",
    "configurations:\n",
    "- params.yaml\n",
    "\"\"\"\n",
    "\n",
    "main_file = f\"\"\"apiVersion: kustomize.config.k8s.io/v1beta1\n",
    "kind: Kustomization\n",
    "\n",
    "\n",
    "configurations:\n",
    "- params.yaml\n",
    "\n",
    "# TBD (jinchihe) Need move the image to base file once.\n",
    "# the issue addressed: kubernetes-sigs/kustomize/issues/1040\n",
    "# TBD (jinchihe) Need to update the image once\n",
    "# the issue addressed: kubeflow/testing/issues/373\n",
    "images:\n",
    "- name: training-image\n",
    "  newName: {TRAIN_IMG_PATH}\n",
    "\n",
    "vars:\n",
    "- fieldref:\n",
    "    fieldPath: data.name\n",
    "  name: trainingName\n",
    "  objref:\n",
    "    apiVersion: v1\n",
    "    kind: ConfigMap\n",
    "    name: mnist-map-training\n",
    "- fieldref:\n",
    "    fieldPath: data.modelDir\n",
    "  name: modelDir\n",
    "  objref:\n",
    "    apiVersion: v1\n",
    "    kind: ConfigMap\n",
    "    name: mnist-map-training\n",
    "- fieldref:\n",
    "    fieldPath: data.exportDir\n",
    "  name: exportDir\n",
    "  objref:\n",
    "    apiVersion: v1\n",
    "    kind: ConfigMap\n",
    "    name: mnist-map-training\n",
    "- fieldref:\n",
    "    fieldPath: data.trainSteps\n",
    "  name: trainSteps\n",
    "  objref:\n",
    "    apiVersion: v1\n",
    "    kind: ConfigMap\n",
    "    name: mnist-map-training\n",
    "- fieldref:\n",
    "    fieldPath: data.batchSize\n",
    "  name: batchSize\n",
    "  objref:\n",
    "    apiVersion: v1\n",
    "    kind: ConfigMap\n",
    "    name: mnist-map-training\n",
    "- fieldref:\n",
    "    fieldPath: data.learningRate\n",
    "  name: learningRate\n",
    "  objref:\n",
    "    apiVersion: v1\n",
    "    kind: ConfigMap\n",
    "    name: mnist-map-training\n",
    "- fieldref:\n",
    "    fieldPath: data.GOOGLE_APPLICATION_CREDENTIALS\n",
    "  name: GOOGLE_APPLICATION_CREDENTIALS\n",
    "  objref:\n",
    "    apiVersion: v1\n",
    "    kind: ConfigMap\n",
    "    name: mnist-map-training\n",
    "- fieldref:\n",
    "    fieldPath: data.secretName\n",
    "  name: secretName\n",
    "  objref:\n",
    "    apiVersion: v1\n",
    "    kind: ConfigMap\n",
    "    name: mnist-map-training\n",
    "- fieldref:\n",
    "    fieldPath: data.secretMountPath\n",
    "  name: secretMountPath\n",
    "  objref:\n",
    "    apiVersion: v1\n",
    "    kind: ConfigMap\n",
    "    name: mnist-map-training\n",
    "\n",
    "patchesJson6902:\n",
    "- path: Chief_patch.yaml\n",
    "  target:\n",
    "    group: kubeflow.org\n",
    "    kind: TFJob\n",
    "    name: $(trainingName)\n",
    "    namespace: kubeflow\n",
    "    version: v1beta2\n",
    "resources:\n",
    "- ../base\n",
    "configMapGenerator:\n",
    "- literals:\n",
    "  - name=mnist-train-dist5\n",
    "  - trainSteps=2000\n",
    "  - batchSize=1000\n",
    "  - learningRate=0.01\n",
    "  - secretName=user-gcp-sa\n",
    "  - secretMountPath=/var/secrets\n",
    "  - GOOGLE_APPLICATION_CREDENTIALS=/var/secrets/user-gcp-sa.json\n",
    "  - modelDir=gs://{BUCKET_NAME}/\n",
    "  - exportDir=gs://{BUCKET_NAME}/export\n",
    "  name: mnist-map-training\n",
    "\"\"\"\n",
    "\n",
    "_=open('../base/kustomization.yaml', 'w').write(base_file)\n",
    "_=open('kustomization.yaml', 'w').write(main_file)"
   ]
  },
  {
   "cell_type": "markdown",
   "metadata": {},
   "source": [
    "Note the name=mnist-train-dist line in the YAML file.  **You will have to choose a new name every\n",
    "time you re-kick-off the training job** - otherwise the workflow will not get created.  Now we can kick off the job with this command:"
   ]
  },
  {
   "cell_type": "code",
   "execution_count": 29,
   "metadata": {},
   "outputs": [
    {
     "name": "stdout",
     "output_type": "stream",
     "text": [
      "configmap \"mnist-map-training-ghh687bfcd\" created\n",
      "tfjob.kubeflow.org \"mnist-train-dist5\" created\n"
     ]
    }
   ],
   "source": [
    "!kustomize build . | kubectl apply -f -"
   ]
  },
  {
   "cell_type": "markdown",
   "metadata": {},
   "source": [
    "You can monitor the workflow on the [Google Worklow Page](https://console.cloud.google.com/kubernetes/workload), where you should see a workflow like \"mnist-train-dist-chief-0\".  **Wait for it to finish.**  After it finishes running then you can copy the exported model file (which is a SavedModel in Tensorflow) to your local machine and zip it up for transfer to Algorithmia."
   ]
  },
  {
   "cell_type": "code",
   "execution_count": 30,
   "metadata": {},
   "outputs": [],
   "source": [
    "%%capture\n",
    "# Copy trained model to local space\n",
    "!gsutil cp -r gs://$BUCKET_NAME/export .\n",
    "# Make model/ directory, deleting if it already exists\n",
    "!rm -rf model*\n",
    "!mkdir model\n",
    "# Compress the trained model into a ZIP file\n",
    "# NOTE: this expects there to be only one model in yoru export/ folder\n",
    "!cp -r export/$(ls export)/* model/\n",
    "!zip model.zip -r model"
   ]
  },
  {
   "cell_type": "markdown",
   "metadata": {},
   "source": [
    "# STEP 7: Loading Model to Algorithmia and Creating an Algorithm"
   ]
  },
  {
   "cell_type": "code",
   "execution_count": 31,
   "metadata": {},
   "outputs": [],
   "source": [
    "%%capture\n",
    "# Put zipped model into Algorithmia\n",
    "!algo rm .my/kubeflow_example force=true\n",
    "!algo mkdir .my/kubeflow_example\n",
    "!algo cp model.zip data://.my/kubeflow_example"
   ]
  },
  {
   "cell_type": "markdown",
   "metadata": {},
   "source": [
    "Then go to [Algorithmia](http://www.algorithmia.com), create a new algorithm (**making sure to give it internet access** for this tutorial), and set its name as a variable:"
   ]
  },
  {
   "cell_type": "code",
   "execution_count": 32,
   "metadata": {},
   "outputs": [],
   "source": [
    "ALGORITHMIA_USERNAME='fcady'\n",
    "ALGORITHM_NAME=\"foo\"\n",
    "\n",
    "FILE_TO_WRITE=ALGORITHM_NAME+'/src/'+ALGORITHM_NAME+'.py'\n",
    "FILE_TO_COMMIT='src/'+ALGORITHM_NAME+'.py'\n",
    "REPO_TO_CLONE=ALGORITHMIA_USERNAME+'/'+ALGORITHM_NAME"
   ]
  },
  {
   "cell_type": "markdown",
   "metadata": {},
   "source": [
    "Now let's use git to checkout this algorithm, write some example code that uses out model, and push it:"
   ]
  },
  {
   "cell_type": "code",
   "execution_count": 33,
   "metadata": {},
   "outputs": [],
   "source": [
    "%%capture\n",
    "!rm -rf $ALGORITHM_NAME  # Delete previously downloaded clone, if it exists\n",
    "!algo clone $REPO_TO_CLONE"
   ]
  },
  {
   "cell_type": "code",
   "execution_count": 34,
   "metadata": {},
   "outputs": [
    {
     "name": "stdout",
     "output_type": "stream",
     "text": [
      "Overwriting foo/src/foo.py\n"
     ]
    }
   ],
   "source": [
    "%%writefile $FILE_TO_WRITE\n",
    "import Algorithmia\n",
    "import tensorflow as tf\n",
    "import requests, zipfile\n",
    "from os import mkdir, listdir\n",
    "\n",
    "IMAGE_FNAME  = '/tmp/foo.png'\n",
    "\n",
    "client = Algorithmia.client()\n",
    "\n",
    "def extract_model():\n",
    "    filename = \"data://.my/kubeflow_example/model.zip\"\n",
    "    input_zip = client.file(filename).getFile().name\n",
    "    mkdir(\"/tmp/unzipped_files\")\n",
    "    zipped_file = zipfile.ZipFile(input_zip)\n",
    "    return zipped_file.extractall(\"/tmp/unzipped_files\")\n",
    "\n",
    "def download_image(url):\n",
    "    with open(IMAGE_FNAME, 'wb') as f:\n",
    "        f.write(requests.get(url).content)\n",
    "\n",
    "def create_session(path_to_graph = \"/tmp/unzipped_files/model\"):\n",
    "    session = tf.Session()\n",
    "    tf.saved_model.loader.load(session, ['serve'], path_to_graph)\n",
    "    y = session.graph.get_tensor_by_name('Softmax:0')\n",
    "    x = session.graph.get_tensor_by_name('Placeholder:0')\n",
    "    return (y, x, session)\n",
    "\n",
    "extract_model()\n",
    "Y, X, SESSION = create_session()\n",
    "\n",
    "def classify_image():\n",
    "    img = tf.keras.preprocessing.image.load_img(IMAGE_FNAME).resize((28,28))\n",
    "    x = tf.keras.preprocessing.image.img_to_array(img)\n",
    "    xx = x.mean(axis=2).reshape((1,28,28)) / 255\n",
    "    predict_values = tf.argmax(Y, 1)\n",
    "    ret = predict_values.eval(session=SESSION,feed_dict={X: xx})\n",
    "    return int(ret)\n",
    "\n",
    "def apply(input):\n",
    "    try:\n",
    "        download_image(input['url'])\n",
    "        msg = 'downloaded image'\n",
    "    except Exception as e:\n",
    "        msg = 'failed to get image:' + str(e)\n",
    "    try: label = classify_image()\n",
    "    except Exception as e:\n",
    "        label = str(e)\n",
    "    output = {\n",
    "        'label': label,\n",
    "        'msg': msg\n",
    "    }\n",
    "    return output"
   ]
  },
  {
   "cell_type": "markdown",
   "metadata": {},
   "source": [
    "Committing and pushing our changes can be a bit finicky when done through Jupyter.  Specifically:\n",
    "* We commit the changes twice, because the first commit doesn't always take\n",
    "* Sometimes you may have to kill the push process and restart it"
   ]
  },
  {
   "cell_type": "code",
   "execution_count": 35,
   "metadata": {},
   "outputs": [],
   "source": [
    "%%capture\n",
    "%cd $ALGORITHM_NAME\n",
    "!git commit -a -m \"Code for the algorithm, from Jupyter\"\n",
    "%cd ..\n",
    "%cd $ALGORITHM_NAME\n",
    "!git commit -a -m \"Code for the algorithm, from Jupyter\"\n",
    "%cd .."
   ]
  },
  {
   "cell_type": "code",
   "execution_count": 37,
   "metadata": {},
   "outputs": [
    {
     "name": "stdout",
     "output_type": "stream",
     "text": [
      "/Users/fieldcady/Desktop/model-deployment/kubeflow_integration/kfapp3/examples/mnist/training/GCS/foo\n",
      "Everything up-to-date\n",
      "/Users/fieldcady/Desktop/model-deployment/kubeflow_integration/kfapp3/examples/mnist/training/GCS\n"
     ]
    }
   ],
   "source": [
    "# Occassionally you have to run this twice...\n",
    "%cd $ALGORITHM_NAME\n",
    "!git push\n",
    "%cd .."
   ]
  },
  {
   "cell_type": "markdown",
   "metadata": {},
   "source": [
    "Now let's build the algorithm!"
   ]
  },
  {
   "cell_type": "code",
   "execution_count": null,
   "metadata": {},
   "outputs": [],
   "source": [
    "import Algorithmia, os\n",
    "api_key = os.environ['ALGORITHMIA_API_KEY']  # Or enter the key directly\n",
    "client = Algorithmia.client(api_key)\n",
    "\n",
    "algo_namespace = \"{}/{}\".format(ALGORITHMIA_USERNAME, ALGORITHM_NAME)\n",
    "client.algo(algo_namespace).compile()\n",
    "client.algo(algo_namespace).publish()"
   ]
  },
  {
   "cell_type": "code",
   "execution_count": null,
   "metadata": {},
   "outputs": [],
   "source": [
    "latest_hash = client.algo(algo_namespace).info().version_info.git_hash\n",
    "algo_input = {\n",
    "    #\"url\": \"https://edwin-de-jong.github.io/blog/mnist-sequence-data/fig/5.png\"\n",
    "    \"url\": \"https://miro.medium.com/max/490/1*nlfLUgHUEj5vW7WVJpxY-g.png\"\n",
    "}\n",
    "res = client.algo(algo_namespace+'/'+latest_hash).pipe(algo_input).result\n",
    "print(res)"
   ]
  },
  {
   "cell_type": "code",
   "execution_count": null,
   "metadata": {},
   "outputs": [],
   "source": []
  }
 ],
 "metadata": {
  "kernelspec": {
   "display_name": "Python 3",
   "language": "python",
   "name": "python3"
  },
  "language_info": {
   "codemirror_mode": {
    "name": "ipython",
    "version": 3
   },
   "file_extension": ".py",
   "mimetype": "text/x-python",
   "name": "python",
   "nbconvert_exporter": "python",
   "pygments_lexer": "ipython3",
   "version": "3.6.8"
  }
 },
 "nbformat": 4,
 "nbformat_minor": 2
}
